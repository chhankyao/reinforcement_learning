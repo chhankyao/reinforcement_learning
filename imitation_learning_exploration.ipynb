{
 "cells": [
  {
   "cell_type": "markdown",
   "metadata": {},
   "source": [
    "# Final Project - Imitation Learning from Suboptimal Demonstrations\n",
    "\n",
    "### Notebook 1: Exploration with Multiple Agents (HalfCheetah-v1)"
   ]
  },
  {
   "cell_type": "markdown",
   "metadata": {},
   "source": [
    "### Set up gym environment\n",
    "The code below does the following for you:\n",
    "- Wrap environment, log videos, setup CUDA variables (if GPU is available)\n",
    "- Record action and observation space dimensions\n",
    "- Fix random seed for determinisitic training"
   ]
  },
  {
   "cell_type": "code",
   "execution_count": 1,
   "metadata": {
    "collapsed": true
   },
   "outputs": [],
   "source": [
    "%matplotlib inline\n",
    "import matplotlib.pyplot as plt\n",
    "import numpy as np\n",
    "import random\n",
    "import os\n",
    "import time\n",
    "import itertools\n",
    "\n",
    "#environment\n",
    "import gym\n",
    "\n",
    "#pytorch\n",
    "import torch\n",
    "from torch.autograd import Variable\n",
    "import torch.nn as nn\n",
    "import torch.nn.functional as F\n",
    "\n",
    "logging_interval = 20\n",
    "animate_interval = logging_interval * 5\n",
    "logdir='./test_DDPG/'\n",
    "\n",
    "# make variable types for automatic setting to GPU or CPU, depending on GPU availability\n",
    "use_cuda = torch.cuda.is_available()\n",
    "FloatTensor = torch.cuda.FloatTensor if use_cuda else torch.FloatTensor\n",
    "LongTensor = torch.cuda.LongTensor if use_cuda else torch.LongTensor\n",
    "ByteTensor = torch.cuda.ByteTensor if use_cuda else torch.ByteTensor\n",
    "Tensor = FloatTensor"
   ]
  },
  {
   "cell_type": "markdown",
   "metadata": {},
   "source": [
    "# REINFORCE\n",
    "\n",
    "In this section you will implement REINFORCE, with modifications for batch training. It will be for use on both discrete and continous action spaces."
   ]
  },
  {
   "cell_type": "markdown",
   "metadata": {},
   "source": [
    "### Implement an action normalization class:\n",
    "To train across various environments, it is useful to normalize action inputs and outputs between [-1, 1]. This class should take in actions and implement forward and reverse functions to map actions between [-1, 1] and [action_space.low, action_space.high].\n",
    "\n",
    "Using the following gym wrapper, implement this class.\n",
    "- https://github.com/openai/gym/blob/78c416ef7bc829ce55b404b6604641ba0cf47d10/gym/core.py\n",
    "- i.e. we are overriding the outputs scale of actions. "
   ]
  },
  {
   "cell_type": "code",
   "execution_count": 2,
   "metadata": {
    "collapsed": true
   },
   "outputs": [],
   "source": [
    "class NormalizeAction(gym.ActionWrapper):\n",
    "    def __init__(self, env=None):\n",
    "        super(NormalizeAction, self).__init__(env)\n",
    "        \n",
    "    def _action(self, action):\n",
    "        #tanh outputs (-1,1) from tanh, need to be [action_space.low, action_space.high]\n",
    "        r = (self.action_space.high - self.action_space.low) / 2.\n",
    "        mid = (self.action_space.high + self.action_space.low) / 2.\n",
    "        return mid + r * action\n",
    "    \n",
    "    def _reverse_action(self, action):\n",
    "        #reverse of that above\n",
    "        r_inv = 2. / (self.action_space.high - self.action_space.low)\n",
    "        mid = (self.action_space.high + self.action_space.low) / 2.\n",
    "        return r_inv * (action - mid)"
   ]
  },
  {
   "cell_type": "markdown",
   "metadata": {},
   "source": [
    "## Policy Parametrization\n",
    "\n",
    "Define a MLP which outputs a distribution over the action preferences given input state. For the discrete case, the MLP outputs the likelihood of each action (softmax) while for the continuous case, the output is the mean and standard deviation parametrizing the normal distribution from which the action is sampled.\n",
    "\n"
   ]
  },
  {
   "cell_type": "code",
   "execution_count": 4,
   "metadata": {
    "collapsed": true
   },
   "outputs": [],
   "source": [
    "# ----------------------------------------------------\n",
    "# Policy parametrizing model, MLP\n",
    "# ----------------------------------------------------\n",
    "# 1 or 2 hidden layers with a small number of units per layer (similar to DQN)\n",
    "# use ReLU for hidden layer activations\n",
    "# softmax as activation for output if discrete actions, linear for continuous control\n",
    "# for the continuous case, output_dim=2*act_dim (each act_dim gets a mean and std_dev)\n",
    "\n",
    "class mlp(nn.Module):\n",
    "    def __init__(self, discrete, input_size, output_size, hidden_size=16):\n",
    "        super(mlp, self).__init__()\n",
    "        self.discrete = discrete\n",
    "        \n",
    "        self.fc1 = nn.Linear(input_size, hidden_size)\n",
    "        self.fc2 = nn.Linear(hidden_size, hidden_size)\n",
    "        if self.discrete:\n",
    "            self.fc3 = nn.Linear(hidden_size, output_size)\n",
    "        else:\n",
    "            self.fc3 = nn.Linear(hidden_size, output_size*2)\n",
    "            \n",
    "        self.fc1.weight.data.normal_(0, 0.1)\n",
    "        self.fc2.weight.data.normal_(0, 0.1)\n",
    "        self.fc3.weight.data.normal_(0, 0.1)\n",
    "\n",
    "    def forward(self, x):\n",
    "        x = Variable(Tensor(x))\n",
    "        x = F.relu(self.fc1(x))\n",
    "        x = F.relu(self.fc2(x))\n",
    "        if self.discrete:\n",
    "            x = F.softmax(self.fc3(x), dim=0)\n",
    "        else:\n",
    "            x = self.fc3(x)\n",
    "        return x"
   ]
  },
  {
   "cell_type": "markdown",
   "metadata": {},
   "source": [
    "Define a function that samples an action from the policy distribtion parameters obtained as output of the MLP. The function should return the action and the log-probability (log_odds) of taking that action. "
   ]
  },
  {
   "cell_type": "code",
   "execution_count": 3,
   "metadata": {
    "collapsed": true
   },
   "outputs": [],
   "source": [
    "def sample_action(logit, discrete):\n",
    "    # logit is the output of the softmax/linear layer\n",
    "    # discrete is a flag for the environment type\n",
    "    # Hint: use Categorical and Normal from torch.distributions to sample action and get the log-probability\n",
    "    # Note that log_probability in this case translates to ln(\\pi(a|s)) \n",
    "    if discrete:\n",
    "        m = torch.distributions.Categorical(logit)\n",
    "    else:\n",
    "        l = int(logit.data.shape[-1]/2)\n",
    "        if len(logit.data.shape) == 1:\n",
    "            m = torch.distributions.Normal(logit[l:], F.softplus(logit[:l]))\n",
    "        else:\n",
    "            m = torch.distributions.Normal(logit[:,l:], F.softplus(logit[:,:l]))\n",
    "    action = m.sample()\n",
    "    log_odds = m.log_prob(action)\n",
    "    return action, log_odds"
   ]
  },
  {
   "cell_type": "markdown",
   "metadata": {},
   "source": [
    "Create a function update_policy that defines the loss function and updates the MLP according to the REINFORCE update rule (ref. slide 24 of Lec 7 or page 330 of Sutton and Barto (2018)). The update algorithm to be used below is slightly different: instead of updating the network at every time-step, we take the gradient of the loss averaged over a batch of timesteps (this is to make SGD more stable). We also use a baseline to reduce variance. \n",
    "\n",
    "The discount factor is set as 1 here. \n"
   ]
  },
  {
   "cell_type": "code",
   "execution_count": 5,
   "metadata": {
    "collapsed": true
   },
   "outputs": [],
   "source": [
    "def update_policy(paths, net):\n",
    "    # paths: a list of paths (complete episodes, used to calculate return at each time step)\n",
    "    # net: MLP object\n",
    "    \n",
    "    num_paths = len(paths)\n",
    "    rew_cums = []\n",
    "    log_odds = []\n",
    "    policy_loss = []\n",
    "    \n",
    "    for path in paths:\n",
    "        # rew_cums should record return at each time step for each path \n",
    "        rews = path['reward']\n",
    "        R = 0\n",
    "        for r in rews[::-1]:\n",
    "            R = r + R\n",
    "            rew_cums.append(R)\n",
    "        \n",
    "        # log_odds should record log_odds obtained at each timestep of path\n",
    "        los = path['log_odds']\n",
    "        for lo in los[::-1]:\n",
    "            log_odds.append(lo)\n",
    "         \n",
    "        # calculated as \"reward to go\"\n",
    " \n",
    "    # make log_odds, rew_cums each a vector\n",
    "    rew_cums = torch.Tensor(np.asarray(rew_cums))    \n",
    "    rew_cums = (rew_cums - rew_cums.mean()) / (rew_cums.std() + 1e-5) # create baseline\n",
    "        \n",
    "    # calculate policy loss and average over paths\n",
    "    for log_prob, reward in zip(log_odds, rew_cums):\n",
    "        policy_loss.append(-log_prob * reward)\n",
    "    policy_loss = torch.cat(policy_loss).sum()\n",
    "    \n",
    "    # take optimizer step\n",
    "    optimizer.zero_grad()\n",
    "    policy_loss.backward()\n",
    "    optimizer.step()"
   ]
  },
  {
   "cell_type": "markdown",
   "metadata": {},
   "source": [
    "Set up environment and instantiate objects. Your algorithm is to be tested on one discrete and two continuous environments. \n",
    "\n"
   ]
  },
  {
   "cell_type": "code",
   "execution_count": 6,
   "metadata": {},
   "outputs": [
    {
     "name": "stderr",
     "output_type": "stream",
     "text": [
      "[2018-06-05 12:57:12,972] Making new env: HalfCheetah-v1\n",
      "[2018-06-05 12:57:13,409] Clearing 88 monitor files from previous run (because force=True was provided)\n"
     ]
    },
    {
     "name": "stdout",
     "output_type": "stream",
     "text": [
      "obs_dim:  17\n",
      "act_dim:  6\n",
      "max_episode_steps:  1000\n"
     ]
    }
   ],
   "source": [
    "# Select Environment\n",
    "\n",
    "# discrete environment:\n",
    "# env_name = 'CartPole-v0'\n",
    "\n",
    "# continous environments:\n",
    "# env_name = 'InvertedPendulum-v1'\n",
    "env_name = 'HalfCheetah-v1'\n",
    "\n",
    "# Make the gym environment\n",
    "env = gym.make(env_name)\n",
    "visualize = False\n",
    "animate = visualize\n",
    "\n",
    "learning_rate = 1e-3\n",
    "\n",
    "max_path_length = 500\n",
    "\n",
    "# Set random seeds\n",
    "seed = 0\n",
    "torch.manual_seed(seed)\n",
    "np.random.seed(seed)\n",
    "\n",
    "# Saving parameters\n",
    "logdir='./test_REINFORCE/'\n",
    "\n",
    "env._max_episode_steps = max_path_length\n",
    "if visualize:\n",
    "    if not os.path.exists(logdir):\n",
    "        os.mkdir(logdir)\n",
    "    env = gym.wrappers.Monitor(env, logdir, force=True, video_callable=lambda episode_id: episode_id%animate_interval==0)\n",
    "\n",
    "# Is this env continuous, or discrete?\n",
    "discrete = isinstance(env.action_space, gym.spaces.Discrete)\n",
    "\n",
    "# Get observation and action space dimensions\n",
    "obs_dim = env.observation_space.shape[0]\n",
    "act_dim = env.action_space.n if discrete else env.action_space.shape[0]\n",
    "print('obs_dim: ', obs_dim)\n",
    "print('act_dim: ', act_dim)\n",
    "print('max_episode_steps: ', env.spec.max_episode_steps)\n",
    "\n",
    "# Maximum length for episodes\n",
    "max_path_length = max_path_length or env.spec.max_episode_steps\n",
    "\n",
    "# Normalize action\n",
    "env = NormalizeAction(env)\n",
    "\n",
    "# Make network object (remember to pass in appropriate flags for the type of action space in use)\n",
    "net = mlp(discrete, obs_dim, act_dim)\n",
    "\n",
    "# Make optimizer\n",
    "optimizer = torch.optim.Adam(net.parameters(), lr = learning_rate)"
   ]
  },
  {
   "cell_type": "markdown",
   "metadata": {},
   "source": [
    "## Run REINFORCE\n",
    "\n",
    "Run REINFORCE for CartPole, InvertedPendulum, and HalfCheetah. "
   ]
  },
  {
   "cell_type": "code",
   "execution_count": 7,
   "metadata": {},
   "outputs": [
    {
     "name": "stderr",
     "output_type": "stream",
     "text": [
      "[2018-06-04 19:56:29,429] Starting new video recorder writing to /Users/hank/Documents/UCSD/ECE276C/hw4/test_REINFORCE/openaigym.video.0.33234.video000000.mp4\n"
     ]
    },
    {
     "name": "stdout",
     "output_type": "stream",
     "text": [
      "Average reward: -190.17590515603456 for episode: 5\n"
     ]
    },
    {
     "name": "stderr",
     "output_type": "stream",
     "text": [
      "[2018-06-04 19:57:26,241] Starting new video recorder writing to /Users/hank/Documents/UCSD/ECE276C/hw4/test_REINFORCE/openaigym.video.0.33234.video000100.mp4\n"
     ]
    },
    {
     "name": "stdout",
     "output_type": "stream",
     "text": [
      "Average reward: -176.6483991942267 for episode: 105\n"
     ]
    },
    {
     "name": "stderr",
     "output_type": "stream",
     "text": [
      "[2018-06-04 19:58:19,782] Starting new video recorder writing to /Users/hank/Documents/UCSD/ECE276C/hw4/test_REINFORCE/openaigym.video.0.33234.video000200.mp4\n"
     ]
    },
    {
     "name": "stdout",
     "output_type": "stream",
     "text": [
      "Average reward: -143.9750315760934 for episode: 205\n"
     ]
    },
    {
     "name": "stderr",
     "output_type": "stream",
     "text": [
      "[2018-06-04 19:59:14,146] Starting new video recorder writing to /Users/hank/Documents/UCSD/ECE276C/hw4/test_REINFORCE/openaigym.video.0.33234.video000300.mp4\n"
     ]
    },
    {
     "name": "stdout",
     "output_type": "stream",
     "text": [
      "Average reward: -155.4177168291811 for episode: 305\n"
     ]
    },
    {
     "name": "stderr",
     "output_type": "stream",
     "text": [
      "[2018-06-04 20:00:10,596] Starting new video recorder writing to /Users/hank/Documents/UCSD/ECE276C/hw4/test_REINFORCE/openaigym.video.0.33234.video000400.mp4\n"
     ]
    },
    {
     "name": "stdout",
     "output_type": "stream",
     "text": [
      "Average reward: -164.46873550449328 for episode: 405\n"
     ]
    },
    {
     "name": "stderr",
     "output_type": "stream",
     "text": [
      "[2018-06-04 20:01:04,148] Starting new video recorder writing to /Users/hank/Documents/UCSD/ECE276C/hw4/test_REINFORCE/openaigym.video.0.33234.video000500.mp4\n"
     ]
    },
    {
     "name": "stdout",
     "output_type": "stream",
     "text": [
      "Average reward: -140.87998390479873 for episode: 505\n"
     ]
    },
    {
     "name": "stderr",
     "output_type": "stream",
     "text": [
      "[2018-06-04 20:01:57,062] Starting new video recorder writing to /Users/hank/Documents/UCSD/ECE276C/hw4/test_REINFORCE/openaigym.video.0.33234.video000600.mp4\n"
     ]
    },
    {
     "name": "stdout",
     "output_type": "stream",
     "text": [
      "Average reward: -139.2746423515086 for episode: 605\n"
     ]
    },
    {
     "name": "stderr",
     "output_type": "stream",
     "text": [
      "[2018-06-04 20:02:51,551] Starting new video recorder writing to /Users/hank/Documents/UCSD/ECE276C/hw4/test_REINFORCE/openaigym.video.0.33234.video000700.mp4\n"
     ]
    },
    {
     "name": "stdout",
     "output_type": "stream",
     "text": [
      "Average reward: -128.64198865367817 for episode: 705\n"
     ]
    },
    {
     "name": "stderr",
     "output_type": "stream",
     "text": [
      "[2018-06-04 20:03:44,311] Starting new video recorder writing to /Users/hank/Documents/UCSD/ECE276C/hw4/test_REINFORCE/openaigym.video.0.33234.video000800.mp4\n"
     ]
    },
    {
     "name": "stdout",
     "output_type": "stream",
     "text": [
      "Average reward: -130.31646945890165 for episode: 805\n"
     ]
    },
    {
     "name": "stderr",
     "output_type": "stream",
     "text": [
      "[2018-06-04 20:04:38,312] Starting new video recorder writing to /Users/hank/Documents/UCSD/ECE276C/hw4/test_REINFORCE/openaigym.video.0.33234.video000900.mp4\n"
     ]
    },
    {
     "name": "stdout",
     "output_type": "stream",
     "text": [
      "Average reward: -116.99806774936954 for episode: 905\n"
     ]
    },
    {
     "name": "stderr",
     "output_type": "stream",
     "text": [
      "[2018-06-04 20:05:43,833] Starting new video recorder writing to /Users/hank/Documents/UCSD/ECE276C/hw4/test_REINFORCE/openaigym.video.0.33234.video001000.mp4\n"
     ]
    },
    {
     "name": "stdout",
     "output_type": "stream",
     "text": [
      "Average reward: -121.08294887856327 for episode: 1005\n"
     ]
    },
    {
     "name": "stderr",
     "output_type": "stream",
     "text": [
      "[2018-06-04 20:06:47,422] Starting new video recorder writing to /Users/hank/Documents/UCSD/ECE276C/hw4/test_REINFORCE/openaigym.video.0.33234.video001100.mp4\n"
     ]
    },
    {
     "name": "stdout",
     "output_type": "stream",
     "text": [
      "Average reward: -124.66034169726 for episode: 1105\n"
     ]
    },
    {
     "name": "stderr",
     "output_type": "stream",
     "text": [
      "[2018-06-04 20:07:52,593] Starting new video recorder writing to /Users/hank/Documents/UCSD/ECE276C/hw4/test_REINFORCE/openaigym.video.0.33234.video001200.mp4\n"
     ]
    },
    {
     "name": "stdout",
     "output_type": "stream",
     "text": [
      "Average reward: -112.49652491079135 for episode: 1205\n"
     ]
    },
    {
     "name": "stderr",
     "output_type": "stream",
     "text": [
      "[2018-06-04 20:08:57,545] Starting new video recorder writing to /Users/hank/Documents/UCSD/ECE276C/hw4/test_REINFORCE/openaigym.video.0.33234.video001300.mp4\n"
     ]
    },
    {
     "name": "stdout",
     "output_type": "stream",
     "text": [
      "Average reward: -101.08036109428963 for episode: 1305\n"
     ]
    },
    {
     "name": "stderr",
     "output_type": "stream",
     "text": [
      "[2018-06-04 20:09:50,058] Starting new video recorder writing to /Users/hank/Documents/UCSD/ECE276C/hw4/test_REINFORCE/openaigym.video.0.33234.video001400.mp4\n"
     ]
    },
    {
     "name": "stdout",
     "output_type": "stream",
     "text": [
      "Average reward: -97.8937455051809 for episode: 1405\n"
     ]
    },
    {
     "name": "stderr",
     "output_type": "stream",
     "text": [
      "[2018-06-04 20:10:43,778] Starting new video recorder writing to /Users/hank/Documents/UCSD/ECE276C/hw4/test_REINFORCE/openaigym.video.0.33234.video001500.mp4\n"
     ]
    },
    {
     "name": "stdout",
     "output_type": "stream",
     "text": [
      "Average reward: -88.73662103829186 for episode: 1505\n"
     ]
    },
    {
     "name": "stderr",
     "output_type": "stream",
     "text": [
      "[2018-06-04 20:11:38,183] Starting new video recorder writing to /Users/hank/Documents/UCSD/ECE276C/hw4/test_REINFORCE/openaigym.video.0.33234.video001600.mp4\n"
     ]
    },
    {
     "name": "stdout",
     "output_type": "stream",
     "text": [
      "Average reward: -93.97683684945717 for episode: 1605\n"
     ]
    },
    {
     "name": "stderr",
     "output_type": "stream",
     "text": [
      "[2018-06-04 20:12:31,430] Starting new video recorder writing to /Users/hank/Documents/UCSD/ECE276C/hw4/test_REINFORCE/openaigym.video.0.33234.video001700.mp4\n"
     ]
    },
    {
     "name": "stdout",
     "output_type": "stream",
     "text": [
      "Average reward: -82.42970482411627 for episode: 1705\n"
     ]
    },
    {
     "name": "stderr",
     "output_type": "stream",
     "text": [
      "[2018-06-04 20:13:25,525] Starting new video recorder writing to /Users/hank/Documents/UCSD/ECE276C/hw4/test_REINFORCE/openaigym.video.0.33234.video001800.mp4\n"
     ]
    },
    {
     "name": "stdout",
     "output_type": "stream",
     "text": [
      "Average reward: -81.29354750065112 for episode: 1805\n"
     ]
    },
    {
     "name": "stderr",
     "output_type": "stream",
     "text": [
      "[2018-06-04 20:14:18,820] Starting new video recorder writing to /Users/hank/Documents/UCSD/ECE276C/hw4/test_REINFORCE/openaigym.video.0.33234.video001900.mp4\n"
     ]
    },
    {
     "name": "stdout",
     "output_type": "stream",
     "text": [
      "Average reward: -75.23860491174933 for episode: 1905\n"
     ]
    },
    {
     "name": "stderr",
     "output_type": "stream",
     "text": [
      "[2018-06-04 20:15:12,521] Starting new video recorder writing to /Users/hank/Documents/UCSD/ECE276C/hw4/test_REINFORCE/openaigym.video.0.33234.video002000.mp4\n"
     ]
    },
    {
     "name": "stdout",
     "output_type": "stream",
     "text": [
      "Average reward: -68.5569144611808 for episode: 2005\n"
     ]
    },
    {
     "name": "stderr",
     "output_type": "stream",
     "text": [
      "[2018-06-04 20:16:06,033] Starting new video recorder writing to /Users/hank/Documents/UCSD/ECE276C/hw4/test_REINFORCE/openaigym.video.0.33234.video002100.mp4\n"
     ]
    },
    {
     "name": "stdout",
     "output_type": "stream",
     "text": [
      "Average reward: -54.85973711577107 for episode: 2105\n"
     ]
    },
    {
     "name": "stderr",
     "output_type": "stream",
     "text": [
      "[2018-06-04 20:17:00,026] Starting new video recorder writing to /Users/hank/Documents/UCSD/ECE276C/hw4/test_REINFORCE/openaigym.video.0.33234.video002200.mp4\n"
     ]
    },
    {
     "name": "stdout",
     "output_type": "stream",
     "text": [
      "Average reward: -73.1807570689975 for episode: 2205\n"
     ]
    },
    {
     "name": "stderr",
     "output_type": "stream",
     "text": [
      "[2018-06-04 20:17:52,782] Starting new video recorder writing to /Users/hank/Documents/UCSD/ECE276C/hw4/test_REINFORCE/openaigym.video.0.33234.video002300.mp4\n"
     ]
    },
    {
     "name": "stdout",
     "output_type": "stream",
     "text": [
      "Average reward: -70.41634408191376 for episode: 2305\n"
     ]
    },
    {
     "name": "stderr",
     "output_type": "stream",
     "text": [
      "[2018-06-04 20:18:46,927] Starting new video recorder writing to /Users/hank/Documents/UCSD/ECE276C/hw4/test_REINFORCE/openaigym.video.0.33234.video002400.mp4\n"
     ]
    },
    {
     "name": "stdout",
     "output_type": "stream",
     "text": [
      "Average reward: -61.018754905466295 for episode: 2405\n"
     ]
    },
    {
     "name": "stderr",
     "output_type": "stream",
     "text": [
      "[2018-06-04 20:19:40,938] Starting new video recorder writing to /Users/hank/Documents/UCSD/ECE276C/hw4/test_REINFORCE/openaigym.video.0.33234.video002500.mp4\n"
     ]
    },
    {
     "name": "stdout",
     "output_type": "stream",
     "text": [
      "Average reward: -63.081412606459814 for episode: 2505\n"
     ]
    },
    {
     "name": "stderr",
     "output_type": "stream",
     "text": [
      "[2018-06-04 20:20:35,382] Starting new video recorder writing to /Users/hank/Documents/UCSD/ECE276C/hw4/test_REINFORCE/openaigym.video.0.33234.video002600.mp4\n"
     ]
    },
    {
     "name": "stdout",
     "output_type": "stream",
     "text": [
      "Average reward: -58.87066945370574 for episode: 2605\n"
     ]
    },
    {
     "name": "stderr",
     "output_type": "stream",
     "text": [
      "[2018-06-04 20:21:27,947] Starting new video recorder writing to /Users/hank/Documents/UCSD/ECE276C/hw4/test_REINFORCE/openaigym.video.0.33234.video002700.mp4\n"
     ]
    },
    {
     "name": "stdout",
     "output_type": "stream",
     "text": [
      "Average reward: -49.55951335486672 for episode: 2705\n"
     ]
    },
    {
     "name": "stderr",
     "output_type": "stream",
     "text": [
      "[2018-06-04 20:22:20,172] Starting new video recorder writing to /Users/hank/Documents/UCSD/ECE276C/hw4/test_REINFORCE/openaigym.video.0.33234.video002800.mp4\n"
     ]
    },
    {
     "name": "stdout",
     "output_type": "stream",
     "text": [
      "Average reward: -40.17972487150962 for episode: 2805\n"
     ]
    },
    {
     "name": "stderr",
     "output_type": "stream",
     "text": [
      "[2018-06-04 20:23:14,040] Starting new video recorder writing to /Users/hank/Documents/UCSD/ECE276C/hw4/test_REINFORCE/openaigym.video.0.33234.video002900.mp4\n"
     ]
    },
    {
     "name": "stdout",
     "output_type": "stream",
     "text": [
      "Average reward: -40.329303130856886 for episode: 2905\n"
     ]
    },
    {
     "name": "stderr",
     "output_type": "stream",
     "text": [
      "[2018-06-04 20:24:06,409] Starting new video recorder writing to /Users/hank/Documents/UCSD/ECE276C/hw4/test_REINFORCE/openaigym.video.0.33234.video003000.mp4\n"
     ]
    },
    {
     "name": "stdout",
     "output_type": "stream",
     "text": [
      "Average reward: -28.29185161763555 for episode: 3005\n"
     ]
    },
    {
     "name": "stderr",
     "output_type": "stream",
     "text": [
      "[2018-06-04 20:25:00,241] Starting new video recorder writing to /Users/hank/Documents/UCSD/ECE276C/hw4/test_REINFORCE/openaigym.video.0.33234.video003100.mp4\n"
     ]
    },
    {
     "name": "stdout",
     "output_type": "stream",
     "text": [
      "Average reward: -26.227948672282512 for episode: 3105\n"
     ]
    },
    {
     "name": "stderr",
     "output_type": "stream",
     "text": [
      "[2018-06-04 20:25:53,401] Starting new video recorder writing to /Users/hank/Documents/UCSD/ECE276C/hw4/test_REINFORCE/openaigym.video.0.33234.video003200.mp4\n"
     ]
    },
    {
     "name": "stdout",
     "output_type": "stream",
     "text": [
      "Average reward: -26.590288942040306 for episode: 3205\n"
     ]
    },
    {
     "name": "stderr",
     "output_type": "stream",
     "text": [
      "[2018-06-04 20:26:47,286] Starting new video recorder writing to /Users/hank/Documents/UCSD/ECE276C/hw4/test_REINFORCE/openaigym.video.0.33234.video003300.mp4\n"
     ]
    },
    {
     "name": "stdout",
     "output_type": "stream",
     "text": [
      "Average reward: -22.19063476853711 for episode: 3305\n"
     ]
    },
    {
     "name": "stderr",
     "output_type": "stream",
     "text": [
      "[2018-06-04 20:27:39,750] Starting new video recorder writing to /Users/hank/Documents/UCSD/ECE276C/hw4/test_REINFORCE/openaigym.video.0.33234.video003400.mp4\n"
     ]
    },
    {
     "name": "stdout",
     "output_type": "stream",
     "text": [
      "Average reward: -17.4837511130398 for episode: 3405\n"
     ]
    },
    {
     "name": "stderr",
     "output_type": "stream",
     "text": [
      "[2018-06-04 20:28:33,573] Starting new video recorder writing to /Users/hank/Documents/UCSD/ECE276C/hw4/test_REINFORCE/openaigym.video.0.33234.video003500.mp4\n"
     ]
    },
    {
     "name": "stdout",
     "output_type": "stream",
     "text": [
      "Average reward: 4.9389976566505585 for episode: 3505\n"
     ]
    },
    {
     "name": "stderr",
     "output_type": "stream",
     "text": [
      "[2018-06-04 20:29:26,883] Starting new video recorder writing to /Users/hank/Documents/UCSD/ECE276C/hw4/test_REINFORCE/openaigym.video.0.33234.video003600.mp4\n"
     ]
    },
    {
     "name": "stdout",
     "output_type": "stream",
     "text": [
      "Average reward: 30.04260738390461 for episode: 3605\n"
     ]
    },
    {
     "name": "stderr",
     "output_type": "stream",
     "text": [
      "[2018-06-04 20:30:18,412] Starting new video recorder writing to /Users/hank/Documents/UCSD/ECE276C/hw4/test_REINFORCE/openaigym.video.0.33234.video003700.mp4\n"
     ]
    },
    {
     "name": "stdout",
     "output_type": "stream",
     "text": [
      "Average reward: 58.434411390390025 for episode: 3705\n"
     ]
    },
    {
     "name": "stderr",
     "output_type": "stream",
     "text": [
      "[2018-06-04 20:31:12,505] Starting new video recorder writing to /Users/hank/Documents/UCSD/ECE276C/hw4/test_REINFORCE/openaigym.video.0.33234.video003800.mp4\n"
     ]
    },
    {
     "name": "stdout",
     "output_type": "stream",
     "text": [
      "Average reward: 75.00370694418834 for episode: 3805\n"
     ]
    },
    {
     "name": "stderr",
     "output_type": "stream",
     "text": [
      "[2018-06-04 20:32:05,901] Starting new video recorder writing to /Users/hank/Documents/UCSD/ECE276C/hw4/test_REINFORCE/openaigym.video.0.33234.video003900.mp4\n"
     ]
    },
    {
     "name": "stdout",
     "output_type": "stream",
     "text": [
      "Average reward: 92.69515131616492 for episode: 3905\n"
     ]
    },
    {
     "name": "stderr",
     "output_type": "stream",
     "text": [
      "[2018-06-04 20:32:59,328] Starting new video recorder writing to /Users/hank/Documents/UCSD/ECE276C/hw4/test_REINFORCE/openaigym.video.0.33234.video004000.mp4\n"
     ]
    },
    {
     "name": "stdout",
     "output_type": "stream",
     "text": [
      "Average reward: 82.85976264694023 for episode: 4005\n"
     ]
    },
    {
     "name": "stderr",
     "output_type": "stream",
     "text": [
      "[2018-06-04 20:33:52,573] Starting new video recorder writing to /Users/hank/Documents/UCSD/ECE276C/hw4/test_REINFORCE/openaigym.video.0.33234.video004100.mp4\n"
     ]
    },
    {
     "name": "stdout",
     "output_type": "stream",
     "text": [
      "Average reward: 82.21833182080445 for episode: 4105\n"
     ]
    },
    {
     "name": "stderr",
     "output_type": "stream",
     "text": [
      "[2018-06-04 20:34:46,257] Starting new video recorder writing to /Users/hank/Documents/UCSD/ECE276C/hw4/test_REINFORCE/openaigym.video.0.33234.video004200.mp4\n"
     ]
    },
    {
     "name": "stdout",
     "output_type": "stream",
     "text": [
      "Average reward: 95.51314477066109 for episode: 4205\n"
     ]
    },
    {
     "name": "stderr",
     "output_type": "stream",
     "text": [
      "[2018-06-04 20:35:13,492] Finished writing results. You can upload them to the scoreboard via gym.upload('/Users/hank/Documents/UCSD/ECE276C/hw4/test_REINFORCE')\n"
     ]
    }
   ],
   "source": [
    "n_iter = 2000 \n",
    "min_timesteps_per_batch = 2000 # sets the batch size for updating network\n",
    "avg_reward = 0\n",
    "avg_rewards = []\n",
    "step_list_reinforce = []\n",
    "total_steps = 0\n",
    "episodes = 0\n",
    "\n",
    "# term_condition = 100 # CartPole\n",
    "term_condition = 100 # HalfCheetah\n",
    "# term_condition = 100 # InvertedPendulum\n",
    "\n",
    "#done = False\n",
    "#while not done:\n",
    "#    _, _, done, _ = env.step(np.zeros(act_dim, dtype=np.int))\n",
    "\n",
    "for itr in range(n_iter): # loop for number of optimization steps\n",
    "    paths = []\n",
    "    steps = 0\n",
    "    \n",
    "    while True: # loop to get enough timesteps in this batch --> if episode ends this loop will restart till steps reaches limit\n",
    "        ob = env.reset()\n",
    "        obs, acs, rews, log_odds = [], [], [], []\n",
    "       \n",
    "        while True: # loop for episode inside batch\n",
    "            #if animate:\n",
    "            #    env.render()\n",
    "            #    time.sleep(0.05)\n",
    "            \n",
    "            # get parametrized policy distribution from net using current state ob\n",
    "            net.eval()\n",
    "            logit = net(ob)\n",
    "            net.train()\n",
    "            \n",
    "            # sample action and get log-probability (log_odds) from distribution\n",
    "            action, log_prob = sample_action(logit, discrete)\n",
    "            action = np.clip(action.data.numpy(), -1, 1)\n",
    "            # action = action[0] # for CartPole only\n",
    "            \n",
    "            # step environment, record reward, next state\n",
    "            next_ob, reward, done, _ = env.step(action)\n",
    "            steps += 1\n",
    "            \n",
    "            # append to obs, acs, rewards, log_odds\n",
    "            obs.append(ob)\n",
    "            acs.append(action)\n",
    "            rews.append(reward)\n",
    "            log_odds.append(log_prob)\n",
    "            \n",
    "            # if done, restart episode till min_timesteps_per_batch is reached                     \n",
    "            if done:\n",
    "                episodes = episodes + 1\n",
    "                break\n",
    "                \n",
    "            ob = next_ob\n",
    "                \n",
    "        path = {\"observation\" : np.array(obs), \n",
    "                \"reward\" : np.array(rews), \n",
    "                \"action\" : np.array(acs),\n",
    "                \"log_odds\" : log_odds}\n",
    "        \n",
    "        paths.append(path)\n",
    "        \n",
    "        if steps > min_timesteps_per_batch:\n",
    "            break \n",
    "        \n",
    "    update_policy(paths, net) # use all complete episodes (a batch of timesteps) recorded in this itr to update net\n",
    "    \n",
    "    if itr == 0:\n",
    "        avg_reward = path['reward'].sum()\n",
    "    else:\n",
    "        avg_reward = 0.95 * avg_reward + 0.05 * path['reward'].sum()\n",
    "    \n",
    "    if avg_reward > term_condition:\n",
    "        break\n",
    "    \n",
    "    total_steps += steps\n",
    "    avg_rewards.append(avg_reward)\n",
    "    step_list_reinforce.append(total_steps)\n",
    "    if itr % logging_interval == 0:\n",
    "        print(\"Average reward: {} for episode: {}\".format(avg_reward, episodes))\n",
    "        \n",
    "env.close()"
   ]
  },
  {
   "cell_type": "code",
   "execution_count": 8,
   "metadata": {},
   "outputs": [
    {
     "data": {
      "image/png": "[encoded data removed]",
      "text/plain": [
       "<matplotlib.figure.Figure at 0x1055897b8>"
      ]
     },
     "metadata": {},
     "output_type": "display_data"
    }
   ],
   "source": [
    "plt.figure()\n",
    "plt.plot(avg_rewards)\n",
    "plt.title('Training reward for HalfCheetah-v1 (REINFORCE)')\n",
    "plt.xlabel('Iteration')\n",
    "plt.ylabel('Average reward')\n",
    "plt.savefig('REINFORCE_HalfCheetah_seed0.png')"
   ]
  },
  {
   "cell_type": "code",
   "execution_count": 9,
   "metadata": {
    "collapsed": true
   },
   "outputs": [],
   "source": [
    "np.save('results/REINFORCE_HalfCheetah_rewards_seed0.npy', np.asarray(avg_rewards))\n",
    "np.save('results/REINFORCE_HalfCheetah_steps_seed0.npy', np.asarray(step_list_reinforce))\n",
    "\n",
    "torch.save(net.state_dict(), 'model/reinforce_HalfCheetah_seed0.pt')"
   ]
  },
  {
   "cell_type": "markdown",
   "metadata": {},
   "source": [
    "# DDPG"
   ]
  },
  {
   "cell_type": "markdown",
   "metadata": {},
   "source": [
    "### Setup environment for Actor Critic\n",
    "- inline plotting\n",
    "- gym\n",
    "- directory for logging videos"
   ]
  },
  {
   "cell_type": "code",
   "execution_count": 5,
   "metadata": {},
   "outputs": [
    {
     "name": "stderr",
     "output_type": "stream",
     "text": [
      "[2018-06-06 17:06:05,754] Making new env: HalfCheetah-v1\n"
     ]
    },
    {
     "name": "stdout",
     "output_type": "stream",
     "text": [
      "max_episode_steps = 1000\n",
      "obs_dim = 17\n",
      "act_dim = 6\n"
     ]
    }
   ],
   "source": [
    "VISUALIZE = False\n",
    "SEED = 0\n",
    "MAX_PATH_LENGTH = 500\n",
    "NUM_EPISODES = 500\n",
    "GAMMA = 0.99\n",
    "BATCH_SIZE = 128\n",
    "\n",
    "# Environments to be tested on\n",
    "# env_name = 'InvertedPendulum-v1'\n",
    "# env_name = 'Pendulum-v0'\n",
    "env_name = 'HalfCheetah-v1'\n",
    "\n",
    "env = gym.make(env_name)\n",
    "\n",
    "print('max_episode_steps =', env._max_episode_steps)\n",
    "env._max_episode_steps = MAX_PATH_LENGTH\n",
    "\n",
    "# wrap gym to save videos\n",
    "if VISUALIZE:\n",
    "    if not os.path.exists(logdir):\n",
    "        os.mkdir(logdir)\n",
    "    env = gym.wrappers.Monitor(env, logdir, force=True, video_callable=lambda episode_id: episode_id%animate_interval==0)\n",
    "\n",
    "# check observation and action space\n",
    "discrete = isinstance(env.action_space, gym.spaces.Discrete)\n",
    "obs_dim = env.observation_space.shape[0]\n",
    "act_dim = env.action_space.n if discrete else env.action_space.shape[0]\n",
    "print('obs_dim =', obs_dim)\n",
    "print('act_dim =', act_dim)\n",
    "\n",
    "if discrete:\n",
    "    print(\"This is a discrete action space, probably not the right algorithm to use\")\n",
    "    \n",
    "# set random seeds\n",
    "torch.manual_seed(SEED)\n",
    "np.random.seed(SEED)"
   ]
  },
  {
   "cell_type": "markdown",
   "metadata": {},
   "source": [
    "### Write a weight syncing function\n",
    "In contrast to DQN, DDPG uses soft weight sychronization. At each time step following training, the actor and critic target network weights are updated to track the rollout networks. \n",
    "- target_network.weights <= target_network.weights \\* (1 - tau) + source_network.weights \\* (tau)"
   ]
  },
  {
   "cell_type": "code",
   "execution_count": 6,
   "metadata": {
    "collapsed": true
   },
   "outputs": [],
   "source": [
    "def weightSync(target_model, source_model, tau = 0.001):\n",
    "    for parameter_target, parameter_source in zip(target_model.parameters(), source_model.parameters()):\n",
    "        parameter_target.data.copy_((1 - tau) * parameter_target.data + tau * parameter_source.data)"
   ]
  },
  {
   "cell_type": "markdown",
   "metadata": {},
   "source": [
    "### Write a Replay class that includes all the functionality of a replay buffer\n",
    "DDPG is an off policy actor-critic method and an identical replay buffer to that used for the previous assignment is applicable here as well (do not include the generate_minibatch method in your Replay class this time). Like before, your constructor for Replay should create an initial buffer of size 1000 when you instantiate it.\n",
    "\n",
    "The replay buffer should kept to some maximum size (60000), allow adding of samples and returning of samples at random from the buffer. Each sample (or experience) is formed as (state, action, reward, next_state, done). "
   ]
  },
  {
   "cell_type": "code",
   "execution_count": 7,
   "metadata": {
    "collapsed": true
   },
   "outputs": [],
   "source": [
    "class Replay():       \n",
    "    def __init__(self, max_size=60000, init_length=1000):\n",
    "        self.capacity = max_size\n",
    "        self.memory = []\n",
    "        self.position = init_length\n",
    "        s = env.reset()\n",
    "        for i in range(init_length):\n",
    "            a = np.random.uniform(-1, 1, act_dim)\n",
    "            next_s, r, done, _ = env.step(a)\n",
    "            self.memory.append([s, a, r, next_s, done])\n",
    "            if done:\n",
    "                s = env.reset()\n",
    "            else:\n",
    "                s = next_s\n",
    "\n",
    "    def push(self, trans):\n",
    "        if len(self.memory) < self.capacity:\n",
    "            self.memory.append(None)\n",
    "        self.memory[self.position] = trans\n",
    "        self.position = (self.position + 1) % self.capacity\n",
    "        \n",
    "    def sample(self, batch_size=BATCH_SIZE):\n",
    "        trans = np.asarray(random.sample(self.memory, batch_size))\n",
    "        s = np.vstack(trans[:,0])\n",
    "        a = np.vstack(trans[:,1])\n",
    "        r = np.vstack(trans[:,2])\n",
    "        next_s = np.vstack(trans[:,3])\n",
    "        done = np.vstack(trans[:,4])\n",
    "        return s, a, r, next_s, done"
   ]
  },
  {
   "cell_type": "markdown",
   "metadata": {},
   "source": [
    "### Write an Ornstein Uhlenbeck process class for exploration noise\n",
    "The proccess is described here:\n",
    "- https://en.wikipedia.org/wiki/Ornstein–Uhlenbeck_process\n",
    "- http://math.stackexchange.com/questions/1287634/implementing-ornstein-uhlenbeck-in-matlab\n",
    "\n",
    "You should implement:\n",
    "- a step / sample method\n",
    "- reset method\n",
    "\n",
    "Use theta = 0.15, mu = 0, sigma = 0.3, dt = 0.01"
   ]
  },
  {
   "cell_type": "code",
   "execution_count": 8,
   "metadata": {
    "collapsed": true
   },
   "outputs": [],
   "source": [
    "class OrnsteinUhlenbeckProcess():\n",
    "    def __init__(self, dimension, num_steps, theta=0.15, mu=0., sigma=0.3, dt=0.01):\n",
    "        super(OrnsteinUhlenbeckProcess, self).__init__()\n",
    "        self.dimension = dimension\n",
    "        self.num_steps = num_steps\n",
    "        self.theta = theta\n",
    "        self.mu = mu\n",
    "        self.sigma = sigma\n",
    "        self.dt = dt\n",
    "        self.reset()\n",
    "\n",
    "    def step(self):\n",
    "        dx = self.theta * (self.mu-self.x_prev) * self.dt + self.sigma * np.sqrt(self.dt)* np.random.randn(self.dimension)\n",
    "        self.x_prev = self.x_prev + dx\n",
    "        return self.x_prev\n",
    "\n",
    "    def reset(self):\n",
    "        self.x_prev = np.ones(self.dimension) * self.mu"
   ]
  },
  {
   "cell_type": "markdown",
   "metadata": {},
   "source": [
    "### Write a Deep Neural Network class that creates a dense network of a desired architecture for actor and critic networks\n",
    "\n",
    "\n",
    "#### Actor\n",
    "- input and hidden layer activation function: ReLU\n",
    "\n",
    "- output activation function: Tanh\n",
    "\n",
    "- hidden_state sizes: 400\n",
    "\n",
    "- state and action sizes: variable\n",
    "\n",
    "- number of hidden layers: 2\n",
    "\n",
    "- batch normalization applied to all hidden layers\n",
    "\n",
    "- weight initialization: normal distribution with small variance. \n",
    "\n",
    "#### Critic\n",
    "- input and hidden layer activation function: ReLU\n",
    "\n",
    "- output activation function: None\n",
    "\n",
    "- hidden_state sizes: 300, 300 + action size\n",
    "\n",
    "- state and action sizes: variable\n",
    "\n",
    "- number of hidden layers: 2\n",
    "\n",
    "- batch normalization applied to all hidden layers prior to the action input\n",
    "\n",
    "- weight initialization: normal distribution with small variance.\n",
    "\n",
    "Good baselines can be found in the paper."
   ]
  },
  {
   "cell_type": "code",
   "execution_count": 9,
   "metadata": {
    "collapsed": true
   },
   "outputs": [],
   "source": [
    "# ----------------------------------------------------\n",
    "# actor model, MLP\n",
    "# ----------------------------------------------------\n",
    "# 2 hidden layers, 400 units per layer, tanh output to bound outputs between -1 and 1\n",
    "\n",
    "class actor(nn.Module):\n",
    "    def __init__(self, input_size, output_size, hidden_size=400):\n",
    "        super(actor, self).__init__()\n",
    "        self.fc1 = nn.Linear(input_size, hidden_size)\n",
    "        #self.bn1 = nn.BatchNorm1d(hidden_size)\n",
    "        self.fc2 = nn.Linear(hidden_size, hidden_size)\n",
    "        #self.bn2 = nn.BatchNorm1d(hidden_size)\n",
    "        self.fc3 = nn.Linear(hidden_size, output_size)\n",
    "        \n",
    "        self.fc1.weight.data.normal_(0, 0.1)\n",
    "        self.fc2.weight.data.normal_(0, 0.1)\n",
    "        self.fc3.weight.data.normal_(0, 0.1)\n",
    "\n",
    "    def forward(self, x):\n",
    "        x = Variable(Tensor(x))\n",
    "        #x = F.relu(self.bn1(self.fc1(x)))\n",
    "        #x = F.relu(self.bn2(self.fc2(x)))\n",
    "        x = F.relu(self.fc1(x))\n",
    "        x = F.relu(self.fc2(x))\n",
    "        x = F.tanh(self.fc3(x))\n",
    "        return x\n",
    "        \n",
    "# ----------------------------------------------------\n",
    "# critic model, MLP\n",
    "# ----------------------------------------------------\n",
    "# 2 hidden layers, 300 units per layer, ouputs rewards therefore unbounded\n",
    "# Action not to be included until 2nd layer of critic (from paper). Make sure to formulate your critic.forward() accordingly\n",
    "\n",
    "class critic(nn.Module):\n",
    "    def __init__(self, state_size, action_size, output_size=1):\n",
    "        super(critic, self).__init__()\n",
    "        self.fc1 = nn.Linear(state_size, 300)\n",
    "        #self.bn1 = nn.BatchNorm1d(300)\n",
    "        self.fc2 = nn.Linear(300 + action_size, 300)\n",
    "        self.fc3 = nn.Linear(300, output_size)\n",
    "        \n",
    "        self.fc1.weight.data.normal_(0, 0.1)\n",
    "        self.fc2.weight.data.normal_(0, 0.1)\n",
    "        self.fc3.weight.data.normal_(0, 0.1)\n",
    "\n",
    "    def forward(self, x, action):\n",
    "        x = Variable(Tensor(x))\n",
    "        #x = F.relu(self.bn1(self.fc1(x)))\n",
    "        x = F.relu(self.fc1(x))\n",
    "        x = torch.cat([x, action], 1)\n",
    "        x = F.relu(self.fc2(x))\n",
    "        x = self.fc3(x)\n",
    "        return x"
   ]
  },
  {
   "cell_type": "markdown",
   "metadata": {},
   "source": [
    "### Define DDPG class to encapsulate definition, rollouts, and training\n",
    "\n",
    "- gamma = 0.99\n",
    "\n",
    "- actor_lr = 1e-4\n",
    "\n",
    "- critic_lr = 1e-3\n",
    "\n",
    "- critic l2 regularization = 1e-2\n",
    "\n",
    "- noise decay\n",
    "\n",
    "- noise class\n",
    "\n",
    "- batch_size = 128\n",
    "\n",
    "- optimizer: Adam\n",
    "\n",
    "- loss (critic): mse\n",
    "\n",
    "Furthermore, you can experiment with action versus parameter space noise. The standard implimentation works with action space noise, howeve parameter space noise has shown to produce excellent results.\n"
   ]
  },
  {
   "cell_type": "code",
   "execution_count": 10,
   "metadata": {
    "collapsed": true
   },
   "outputs": [],
   "source": [
    "class DDPG:\n",
    "    def __init__(self, input_size = obs_dim, output_size = act_dim, critic_lr = 1e-3, actor_lr = 1e-4, gamma = GAMMA, batch_size = BATCH_SIZE):\n",
    "        \n",
    "        self.gamma = GAMMA\n",
    "        self.batch_size = BATCH_SIZE\n",
    "        \n",
    "        # actor\n",
    "        self.actor = actor(input_size = obs_dim, output_size = act_dim).type(FloatTensor)\n",
    "        self.actor_target = actor(input_size = obs_dim, output_size = act_dim).type(FloatTensor)\n",
    "        self.actor_target.load_state_dict(self.actor.state_dict())\n",
    "\n",
    "        # critic\n",
    "        self.critic = critic(state_size = obs_dim, action_size = act_dim, output_size = 1).type(FloatTensor)\n",
    "        self.critic_target = critic(state_size = obs_dim, action_size = act_dim, output_size = 1).type(FloatTensor)\n",
    "        self.critic_target.load_state_dict(self.critic.state_dict())\n",
    "\n",
    "        # optimizers\n",
    "        self.optimizer_actor = torch.optim.Adam(self.actor.parameters(), lr = actor_lr)\n",
    "        self.optimizer_critic = torch.optim.Adam(self.critic.parameters(), lr = critic_lr, weight_decay=1e-2)\n",
    "        \n",
    "        # critic loss\n",
    "        self.critic_loss = nn.MSELoss()\n",
    "        \n",
    "        # noise\n",
    "        self.noise = OrnsteinUhlenbeckProcess(dimension = act_dim, num_steps = MAX_PATH_LENGTH)\n",
    "\n",
    "        # replay buffer \n",
    "        self.replayBuffer = Replay()\n",
    "        \n",
    "        \n",
    "    def train(self, w):\n",
    "     \n",
    "        # sample from Replay\n",
    "        s, a, r, next_s, done = self.replayBuffer.sample(self.batch_size)\n",
    "        \n",
    "        # update critic (create target for Q function)\n",
    "        next_q = self.critic_target(next_s, self.actor_target(next_s))\n",
    "        target_q = Variable(Tensor(r + self.gamma * (1-done) * next_q.data.numpy()))\n",
    "       \n",
    "        # critic optimizer and backprop step (feed in target and predicted values to self.critic_loss)\n",
    "        self.critic.zero_grad()        \n",
    "        q = self.critic(s, Variable(Tensor(a)))  \n",
    "        loss = self.critic_loss(q, target_q)\n",
    "        loss.backward()\n",
    "        self.optimizer_critic.step()\n",
    "\n",
    "        # update actor (formulate the loss wrt which actor is updated)\n",
    "        self.actor.zero_grad()\n",
    "        #logit = net_reinforce(s)\n",
    "        #action_expert, _ = sample_action(logit, discrete)\n",
    "        #action_expert = np.clip(action_expert.data.numpy(), -1, 1)        \n",
    "        loss_actor = -self.critic(s, self.actor(s)).mean()\n",
    "        #loss_actor2 = F.mse_loss(self.actor(s), Variable(Tensor(action_expert))) * w\n",
    "        #loss_actor = loss_actor1 + loss_actor2\n",
    "        \n",
    "        # actor optimizer and backprop step (loss_actor.backward())\n",
    "        loss_actor.backward()\n",
    "        self.optimizer_actor.step()       \n",
    "\n",
    "        # sychronize target network with fast moving one\n",
    "        weightSync(self.critic_target, self.critic)\n",
    "        weightSync(self.actor_target, self.actor)"
   ]
  },
  {
   "cell_type": "markdown",
   "metadata": {},
   "source": [
    "### Create an instance of your DDPG object\n",
    "- Print network architectures, confirm they are correct"
   ]
  },
  {
   "cell_type": "code",
   "execution_count": 11,
   "metadata": {},
   "outputs": [
    {
     "name": "stdout",
     "output_type": "stream",
     "text": [
      "actor(\n",
      "  (fc1): Linear(in_features=17, out_features=400, bias=True)\n",
      "  (fc2): Linear(in_features=400, out_features=400, bias=True)\n",
      "  (fc3): Linear(in_features=400, out_features=6, bias=True)\n",
      ")\n",
      "critic(\n",
      "  (fc1): Linear(in_features=17, out_features=300, bias=True)\n",
      "  (fc2): Linear(in_features=306, out_features=300, bias=True)\n",
      "  (fc3): Linear(in_features=300, out_features=1, bias=True)\n",
      ")\n"
     ]
    }
   ],
   "source": [
    "ddpg = DDPG(input_size = obs_dim, output_size = act_dim)\n",
    "print(ddpg.actor)\n",
    "print(ddpg.critic)"
   ]
  },
  {
   "cell_type": "markdown",
   "metadata": {},
   "source": [
    "### Train DDPG on different environments\n",
    "Early stopping conditions:\n",
    "- avg_val > 500 for \"InvertedPendulum\" \n",
    "- avg_val > -150 for \"Pendulum\" \n",
    "- avg_val > 1500 for \"HalfCheetah\" \n",
    "\n"
   ]
  },
  {
   "cell_type": "code",
   "execution_count": 12,
   "metadata": {},
   "outputs": [
    {
     "name": "stdout",
     "output_type": "stream",
     "text": [
      "Average value: 2.7185295654323944 for episode: 0\n",
      "Average value: 13.52709733656018 for episode: 1\n",
      "Average value: 20.897619761136593 for episode: 2\n",
      "Average value: 28.638331594992344 for episode: 3\n",
      "Average value: 35.484239241255295 for episode: 4\n",
      "Average value: 28.373742409348672 for episode: 5\n",
      "Average value: 36.1133272397712 for episode: 6\n",
      "Average value: 42.61311492817002 for episode: 7\n",
      "Average value: 33.11078913044418 for episode: 8\n",
      "Average value: 35.13485965008388 for episode: 9\n",
      "Average value: 28.21985249253202 for episode: 10\n",
      "Average value: 25.468797032815083 for episode: 11\n",
      "Average value: 16.372473739701068 for episode: 12\n",
      "Average value: 10.640838803346995 for episode: 13\n",
      "Average value: 0.7703563034536938 for episode: 14\n",
      "Average value: 4.936485441625206 for episode: 15\n",
      "Average value: 11.589238397234684 for episode: 16\n",
      "Average value: 17.49975161105023 for episode: 17\n",
      "Average value: 23.9030587137265 for episode: 18\n",
      "Average value: 25.413833597689848 for episode: 19\n",
      "Average value: 33.67594663574637 for episode: 20\n",
      "Average value: 35.8324447831607 for episode: 21\n",
      "Average value: 41.84188158038573 for episode: 22\n",
      "Average value: 48.48565376921932 for episode: 23\n",
      "Average value: 59.409050545008554 for episode: 24\n",
      "Average value: 62.39412292223449 for episode: 25\n",
      "Average value: 72.62178580845534 for episode: 26\n",
      "Average value: 74.48245164702654 for episode: 27\n",
      "Average value: 78.13378601686966 for episode: 28\n",
      "Average value: 84.07762987271607 for episode: 29\n",
      "Average value: 88.75427376739495 for episode: 30\n",
      "Average value: 77.30308320636463 for episode: 31\n",
      "Average value: 73.2687451016524 for episode: 32\n",
      "Average value: 71.84289727311659 for episode: 33\n",
      "Average value: 61.21669209044835 for episode: 34\n",
      "Average value: 76.77191812931157 for episode: 35\n",
      "Average value: 83.94085732334696 for episode: 36\n",
      "Average value: 94.79080661347868 for episode: 37\n",
      "Average value: 76.24934847576458 for episode: 38\n",
      "Average value: 89.93341919780475 for episode: 39\n",
      "Average value: 103.39866727484757 for episode: 40\n",
      "Average value: 95.64543598222814 for episode: 41\n",
      "Average value: 85.01521589962884 for episode: 42\n",
      "Average value: 106.58287285425304 for episode: 43\n",
      "Average value: 116.47575993807237 for episode: 44\n",
      "Average value: 110.61612856133836 for episode: 45\n",
      "Average value: 127.49729970788513 for episode: 46\n",
      "Average value: 117.03475858323728 for episode: 47\n",
      "Average value: 120.88826401058016 for episode: 48\n",
      "Average value: 140.8125409882856 for episode: 49\n",
      "Average value: 164.0925719155316 for episode: 50\n",
      "Average value: 169.9611599375612 for episode: 51\n",
      "Average value: 163.5902810599459 for episode: 52\n",
      "Average value: 163.78622087891358 for episode: 53\n",
      "Average value: 184.61937487116717 for episode: 54\n",
      "Average value: 207.29657814392425 for episode: 55\n",
      "Average value: 231.88468563707096 for episode: 56\n",
      "Average value: 250.51346060760076 for episode: 57\n",
      "Average value: 231.85826393132072 for episode: 58\n",
      "Average value: 256.99639888523495 for episode: 59\n",
      "Average value: 238.6584750139233 for episode: 60\n",
      "Average value: 251.88953001113623 for episode: 61\n",
      "Average value: 273.44227859109833 for episode: 62\n",
      "Average value: 266.33878319946166 for episode: 63\n",
      "Average value: 238.82309861756738 for episode: 64\n",
      "Average value: 259.55726928144304 for episode: 65\n",
      "Average value: 288.1680731646591 for episode: 66\n",
      "Average value: 311.9055188051608 for episode: 67\n",
      "Average value: 291.04023292757427 for episode: 68\n",
      "Average value: 265.2998675845338 for episode: 69\n",
      "Average value: 287.42404605555595 for episode: 70\n",
      "Average value: 308.11320087668423 for episode: 71\n",
      "Average value: 290.6561614279734 for episode: 72\n",
      "Average value: 298.70872250522876 for episode: 73\n",
      "Average value: 319.31198402131423 for episode: 74\n",
      "Average value: 336.28917238505016 for episode: 75\n",
      "Average value: 315.0299731036817 for episode: 76\n",
      "Average value: 321.81839793085703 for episode: 77\n",
      "Average value: 331.70302894778723 for episode: 78\n",
      "Average value: 361.10649312676793 for episode: 79\n",
      "Average value: 378.80115636768807 for episode: 80\n",
      "Average value: 356.25329457777474 for episode: 81\n",
      "Average value: 365.91754728385763 for episode: 82\n",
      "Average value: 355.370091663903 for episode: 83\n",
      "Average value: 328.2635308242087 for episode: 84\n",
      "Average value: 299.9207523039762 for episode: 85\n",
      "Average value: 281.28898822386435 for episode: 86\n",
      "Average value: 277.66974381692324 for episode: 87\n",
      "Average value: 274.0687907363276 for episode: 88\n",
      "Average value: 298.5284234474099 for episode: 89\n",
      "Average value: 326.4091055343814 for episode: 90\n",
      "Average value: 316.210128656964 for episode: 91\n",
      "Average value: 341.8711329596164 for episode: 92\n",
      "Average value: 348.15101581407157 for episode: 93\n",
      "Average value: 369.92080524594604 for episode: 94\n",
      "Average value: 402.93984254560814 for episode: 95\n",
      "Average value: 395.82356750138763 for episode: 96\n",
      "Average value: 419.59538114886607 for episode: 97\n",
      "Average value: 431.45585022757564 for episode: 98\n",
      "Average value: 456.77724774649425 for episode: 99\n",
      "Average value: 475.6069952172129 for episode: 100\n",
      "Average value: 442.79433193898984 for episode: 101\n",
      "Average value: 470.7994578390477 for episode: 102\n",
      "Average value: 437.82499607616086 for episode: 103\n",
      "Average value: 458.7359885647971 for episode: 104\n",
      "Average value: 448.09043284232723 for episode: 105\n",
      "Average value: 432.423319510211 for episode: 106\n",
      "Average value: 455.0542868743687 for episode: 107\n",
      "Average value: 487.0821879844956 for episode: 108\n",
      "Average value: 518.0350652566474 for episode: 109\n",
      "Average value: 544.6191927893053 for episode: 110\n",
      "Average value: 567.3971258346156 for episode: 111\n",
      "Average value: 535.7568280786521 for episode: 112\n",
      "Average value: 552.7115760670794 for episode: 113\n",
      "Average value: 550.3504188533115 for episode: 114\n",
      "Average value: 558.2643368476735 for episode: 115\n",
      "Average value: 583.1886839581558 for episode: 116\n",
      "Average value: 597.0916372232059 for episode: 117\n",
      "Average value: 625.8046410778621 for episode: 118\n",
      "Average value: 642.9615609807546 for episode: 119\n",
      "Average value: 647.5609258717674 for episode: 120\n",
      "Average value: 671.6924554280083 for episode: 121\n",
      "Average value: 686.5957371626428 for episode: 122\n",
      "Average value: 706.16383165863 for episode: 123\n",
      "Average value: 715.9765024000724 for episode: 124\n",
      "Average value: 719.9721413627889 for episode: 125\n",
      "Average value: 731.8731134775294 for episode: 126\n",
      "Average value: 742.0036813037628 for episode: 127\n",
      "Average value: 712.6591003724303 for episode: 128\n",
      "Average value: 736.605054699642 for episode: 129\n",
      "Average value: 720.7582782668172 for episode: 130\n",
      "Average value: 739.798173858391 for episode: 131\n",
      "Average value: 765.6060160538768 for episode: 132\n",
      "Average value: 777.4976227402033 for episode: 133\n",
      "Average value: 792.5705654410592 for episode: 134\n",
      "Average value: 806.0715996311433 for episode: 135\n",
      "Average value: 815.9437989030548 for episode: 136\n",
      "Average value: 831.0431944482547 for episode: 137\n",
      "Average value: 837.8743021132248 for episode: 138\n",
      "Average value: 840.9402220185749 for episode: 139\n",
      "Average value: 861.1622532806483 for episode: 140\n",
      "Average value: 878.8229362721576 for episode: 141\n",
      "Average value: 897.6393829545536 for episode: 142\n",
      "Average value: 910.6446731121441 for episode: 143\n",
      "Average value: 923.488685920013 for episode: 144\n",
      "Average value: 946.0614409610839 for episode: 145\n",
      "Average value: 913.1402251423663 for episode: 146\n",
      "Average value: 932.9469113701169 for episode: 147\n",
      "Average value: 953.3271305280296 for episode: 148\n",
      "Average value: 967.0631810124914 for episode: 149\n",
      "Average value: 981.7166419645325 for episode: 150\n",
      "Average value: 999.6079884283591 for episode: 151\n",
      "Average value: 1008.0308442959642 for episode: 152\n",
      "Average value: 1017.9859268237749 for episode: 153\n",
      "Average value: 1018.351002207378 for episode: 154\n",
      "Average value: 1030.9782788583693 for episode: 155\n",
      "Average value: 982.7609903530139 for episode: 156\n",
      "Average value: 1004.437683267535 for episode: 157\n",
      "Average value: 953.5384216462716 for episode: 158\n",
      "Average value: 973.2845214122734 for episode: 159\n",
      "Average value: 989.7159066380948 for episode: 160\n",
      "Average value: 1010.1330443614332 for episode: 161\n",
      "Average value: 1039.1332106244129 for episode: 162\n",
      "Average value: 1057.4966428873065 for episode: 163\n",
      "Average value: 1084.6699257473176 for episode: 164\n",
      "Average value: 1094.4143503142345 for episode: 165\n"
     ]
    },
    {
     "name": "stdout",
     "output_type": "stream",
     "text": [
      "Average value: 1102.5538025587057 for episode: 166\n",
      "Average value: 1124.841287014667 for episode: 167\n",
      "Average value: 1141.7027475730677 for episode: 168\n",
      "Average value: 1162.9089794996528 for episode: 169\n",
      "Average value: 1173.663090691799 for episode: 170\n",
      "Average value: 1190.4863044910135 for episode: 171\n",
      "Average value: 1205.3008986164282 for episode: 172\n",
      "Average value: 1219.2069976616478 for episode: 173\n",
      "Average value: 1233.773547756803 for episode: 174\n",
      "Average value: 1246.3243457203369 for episode: 175\n",
      "Average value: 1254.9242863121526 for episode: 176\n",
      "Average value: 1274.557713620202 for episode: 177\n",
      "Average value: 1279.271030119126 for episode: 178\n",
      "Average value: 1293.9773721674 for episode: 179\n",
      "Average value: 1297.0782416229029 for episode: 180\n",
      "Average value: 1303.065954453394 for episode: 181\n",
      "Average value: 1315.5378750280756 for episode: 182\n",
      "Average value: 1326.4840966944755 for episode: 183\n",
      "Average value: 1335.7217268937807 for episode: 184\n",
      "Average value: 1345.260269904451 for episode: 185\n",
      "Average value: 1368.7446437381543 for episode: 186\n",
      "Average value: 1355.89321156119 for episode: 187\n",
      "Average value: 1354.4251970701416 for episode: 188\n",
      "Average value: 1361.2658491788843 for episode: 189\n",
      "Average value: 1371.743423335893 for episode: 190\n",
      "Average value: 1378.5684832605202 for episode: 191\n",
      "Average value: 1389.9683941803198 for episode: 192\n",
      "Average value: 1393.0175595088144 for episode: 193\n",
      "Average value: 1413.2859643950958 for episode: 194\n",
      "Average value: 1424.6366545794822 for episode: 195\n",
      "Average value: 1439.7362777141452 for episode: 196\n",
      "Average value: 1432.2825122600493 for episode: 197\n",
      "Average value: 1442.96015333558 for episode: 198\n",
      "Average value: 1433.854416698935 for episode: 199\n",
      "Average value: 1444.253032239254 for episode: 200\n",
      "Average value: 1370.3256935976938 for episode: 201\n",
      "Average value: 1376.3787819759536 for episode: 202\n",
      "Average value: 1381.6355425613829 for episode: 203\n",
      "Average value: 1340.0204537044779 for episode: 204\n",
      "Average value: 1348.9370466877367 for episode: 205\n",
      "Average value: 1358.8146609758319 for episode: 206\n",
      "Average value: 1376.9269926446188 for episode: 207\n",
      "Average value: 1384.7791109855393 for episode: 208\n",
      "Average value: 1382.1722631992686 for episode: 209\n",
      "Average value: 1400.7129727037432 for episode: 210\n",
      "Average value: 1403.3475637276515 for episode: 211\n",
      "Average value: 1414.5999815249684 for episode: 212\n",
      "Average value: 1424.0181935839182 for episode: 213\n",
      "Average value: 1421.0528672404682 for episode: 214\n",
      "Average value: 1399.7091109347514 for episode: 215\n",
      "Average value: 1399.5978963928617 for episode: 216\n",
      "Average value: 1415.4605882864355 for episode: 217\n",
      "Average value: 1423.164961815892 for episode: 218\n",
      "Average value: 1436.7619982429117 for episode: 219\n",
      "Average value: 1444.8720310439155 for episode: 220\n",
      "Average value: 1457.5841859062773 for episode: 221\n",
      "Average value: 1459.618950875493 for episode: 222\n",
      "Average value: 1460.0247667530555 for episode: 223\n",
      "Average value: 1463.1046323656947 for episode: 224\n",
      "Average value: 1479.1184531946494 for episode: 225\n",
      "Average value: 1475.5333288606296 for episode: 226\n",
      "Average value: 1484.0440474301897 for episode: 227\n",
      "Average value: 1489.955640650172 for episode: 228\n",
      "Average value: 1508.306096414848 for episode: 229\n"
     ]
    }
   ],
   "source": [
    "env = NormalizeAction(env) # remap action values for the environment\n",
    "avg_val = 0\n",
    "\n",
    "min_epsilon = 0.01\n",
    "decay_rate = 5/NUM_EPISODES\n",
    "\n",
    "#for plotting\n",
    "running_rewards_ddpg = []\n",
    "step_list_ddpg = []\n",
    "step_counter = 0\n",
    "\n",
    "# set term_condition for early stopping according to environment being used\n",
    "# term_condition = -150 # Pendulum\n",
    "term_condition = 1500 # HalfCheetah\n",
    "# term_condition = 450 # InvertedPendulum\n",
    "\n",
    "#done = False\n",
    "#while not done:\n",
    "#    _, _, done, _ = env.step(np.zeros(act_dim, dtype=np.int))\n",
    "\n",
    "# load policy network from REINFORCE\n",
    "demo1 = mlp(discrete, obs_dim, act_dim)\n",
    "demo2 = mlp(discrete, obs_dim, act_dim)\n",
    "demo3 = mlp(discrete, obs_dim, act_dim)\n",
    "demo4 = mlp(discrete, obs_dim, act_dim)\n",
    "demo5 = mlp(discrete, obs_dim, act_dim)\n",
    "pretrained_model1 = torch.load('model/reinforce_HalfCheetah.pt')\n",
    "pretrained_model2 = torch.load('model/reinforce_HalfCheetah_seed1.pt')\n",
    "pretrained_model3 = torch.load('model/reinforce_HalfCheetah_seed2.pt')\n",
    "pretrained_model4 = torch.load('model/reinforce_HalfCheetah_seed3.pt')\n",
    "pretrained_model5 = torch.load('model/reinforce_HalfCheetah_seed4.pt')\n",
    "demo1.load_state_dict(pretrained_model1)\n",
    "demo2.load_state_dict(pretrained_model2)\n",
    "demo3.load_state_dict(pretrained_model3)\n",
    "demo4.load_state_dict(pretrained_model4)\n",
    "demo5.load_state_dict(pretrained_model5)\n",
    "demo1.eval()\n",
    "demo2.eval()\n",
    "demo3.eval()\n",
    "demo4.eval()\n",
    "demo5.eval()\n",
    "\n",
    "for itr in range(NUM_EPISODES):\n",
    "    s = env.reset() # get initial state\n",
    "    ddpg.noise.reset()\n",
    "    animate_this_episode = (itr % animate_interval == 0) and VISUALIZE    \n",
    "    episode_reward = 0\n",
    "    epsilon = min_epsilon + (1.0 - min_epsilon)*np.exp(-decay_rate*itr)\n",
    "\n",
    "    while True:\n",
    "\n",
    "        if animate_this_episode:\n",
    "            env.render()\n",
    "            time.sleep(0.05)\n",
    "        \n",
    "        ddpg.noise.reset()\n",
    "        \n",
    "        # use actor to get action, add ddpg.noise.step() to action        \n",
    "        # remember to put NN in eval mode while testing (to deal with BatchNorm layers) and put it back \n",
    "        # to train mode after you're done getting the action\n",
    "        ddpg.actor.eval()\n",
    "        action_actor = np.clip(ddpg.actor(np.array([s])).data.numpy(), -1, 1)\n",
    "        ddpg.actor.train()\n",
    "        \n",
    "        # get expert action\n",
    "        logit1 = demo1(s)\n",
    "        logit2 = demo2(s)\n",
    "        logit3 = demo3(s)\n",
    "        logit4 = demo4(s)\n",
    "        logit5 = demo5(s)\n",
    "        action_expert1, _ = sample_action(logit1, discrete)\n",
    "        action_expert2, _ = sample_action(logit2, discrete)\n",
    "        action_expert3, _ = sample_action(logit3, discrete)\n",
    "        action_expert4, _ = sample_action(logit4, discrete)\n",
    "        action_expert5, _ = sample_action(logit5, discrete)\n",
    "        action_expert1 = np.clip(action_expert1.data.numpy(), -1, 1)\n",
    "        action_expert2 = np.clip(action_expert2.data.numpy(), -1, 1)\n",
    "        action_expert3 = np.clip(action_expert3.data.numpy(), -1, 1)\n",
    "        action_expert4 = np.clip(action_expert4.data.numpy(), -1, 1)\n",
    "        action_expert5 = np.clip(action_expert5.data.numpy(), -1, 1)\n",
    "        \n",
    "        action_experts = np.vstack([action_expert1, action_expert2, action_expert3, action_expert4, action_expert5])\n",
    "        std = np.mean(np.std(action_experts, axis=0))\n",
    "        \n",
    "        # sample action from expert and actor\n",
    "        #action = action_actor\n",
    "        if np.random.uniform() > 2*epsilon*(1-std):\n",
    "            action = action_actor\n",
    "        else:\n",
    "            action = action_expert1 #np.mean(action_experts, axis=0)\n",
    "        \n",
    "        action = np.clip(action + epsilon * ddpg.noise.step(), -1, 1)\n",
    "                \n",
    "        # step action, get next state, reward, done (keep track of total_reward)\n",
    "        next_s, r, done, _ = env.step(action)\n",
    "        next_s = next_s.flatten()\n",
    "        episode_reward += r\n",
    "\n",
    "        # populate ddpg.replayBuffer\n",
    "        ddpg.replayBuffer.push([s, action, r, next_s, done])\n",
    "        s = next_s\n",
    "        \n",
    "        ddpg.train(epsilon)\n",
    "        step_counter += 1\n",
    "        \n",
    "        if done:\n",
    "            break\n",
    "\n",
    "    if itr > 100 and avg_val > term_condition:\n",
    "        break\n",
    "    \n",
    "    running_rewards_ddpg.append(episode_reward) # return of this episode\n",
    "    step_list_ddpg.append(step_counter)\n",
    "\n",
    "    avg_val = 0.95*avg_val + 0.05*running_rewards_ddpg[-1]\n",
    "    print(\"Average value: {} for episode: {}\".format(avg_val, itr))"
   ]
  },
  {
   "cell_type": "code",
   "execution_count": 14,
   "metadata": {},
   "outputs": [
    {
     "data": {
      "image/png": "[encoded data removed]",
      "text/plain": [
       "<matplotlib.figure.Figure at 0x111a063c8>"
      ]
     },
     "metadata": {},
     "output_type": "display_data"
    }
   ],
   "source": [
    "plt.figure()\n",
    "plt.plot(running_rewards_ddpg)\n",
    "plt.title('Training reward for HalfCheetah-v1 (DDPG)')\n",
    "plt.xlabel('Number of episodes')\n",
    "plt.ylabel('Episode reward')\n",
    "plt.savefig('DDPG_HalfCheetah_episode_multiple_exp1.png')\n",
    "plt.show()"
   ]
  },
  {
   "cell_type": "markdown",
   "metadata": {},
   "source": [
    "## Plot rewards over multiple training runs \n",
    "This is provided to generate and plot results for you."
   ]
  },
  {
   "cell_type": "code",
   "execution_count": 2,
   "metadata": {
    "collapsed": true
   },
   "outputs": [],
   "source": [
    "def numpy_ewma_vectorized_v2(data, window):\n",
    "\n",
    "    alpha = 2/(window + 1.0)\n",
    "    alpha_rev = 1-alpha\n",
    "    n = data.shape[0]\n",
    "\n",
    "    pows = alpha_rev**(np.arange(n+1))\n",
    "    scale_arr = 1/pows[:-1]\n",
    "    offset = data[0]*pows[1:]\n",
    "    pw0 = alpha*alpha_rev**(n-1)\n",
    "\n",
    "    mult = data.transpose()*pw0*scale_arr\n",
    "    cumsums = mult.cumsum()\n",
    "    out = offset + cumsums*scale_arr[::-1]\n",
    "    return out"
   ]
  },
  {
   "cell_type": "code",
   "execution_count": 16,
   "metadata": {},
   "outputs": [
    {
     "data": {
      "image/png": "[encoded data removed]",
      "text/plain": [
       "<matplotlib.figure.Figure at 0x115ba76d8>"
      ]
     },
     "metadata": {},
     "output_type": "display_data"
    }
   ],
   "source": [
    "out = numpy_ewma_vectorized_v2(np.asarray(running_rewards_ddpg),20)\n",
    "step_list_ddpg = np.asarray(step_list_ddpg)\n",
    "\n",
    "plt.figure()\n",
    "plt.plot(step_list_ddpg, out)\n",
    "plt.title('Training reward for HalfCheetah-v1 (DDPG)')\n",
    "plt.xlabel('Number of steps')\n",
    "plt.ylabel('Cumulative reward')\n",
    "plt.savefig('DDPG_HalfCheetah_multiple_exp1.png')\n",
    "plt.show()"
   ]
  },
  {
   "cell_type": "code",
   "execution_count": 17,
   "metadata": {
    "collapsed": true
   },
   "outputs": [],
   "source": [
    "np.save('results/DDPG_HalfCheetah_rewards_multiple_exp1.npy', np.asarray(running_rewards_ddpg))\n",
    "np.save('results/DDPG_HalfCheetah_steps_multiple_exp1.npy', np.asarray(step_list_ddpg))"
   ]
  },
  {
   "cell_type": "code",
   "execution_count": 3,
   "metadata": {
    "collapsed": true
   },
   "outputs": [],
   "source": [
    "r1 = numpy_ewma_vectorized_v2(np.load('results/DDPG_HalfCheetah_rewards_woDemo_exp1.npy'), 20)\n",
    "r2 = numpy_ewma_vectorized_v2(np.load('results/DDPG_HalfCheetah_rewards_woDemo_exp2.npy'), 20)\n",
    "r3 = numpy_ewma_vectorized_v2(np.load('results/DDPG_HalfCheetah_rewards_woDemo_exp3.npy'), 20)\n",
    "r4 = numpy_ewma_vectorized_v2(np.load('results/DDPG_HalfCheetah_rewards_woDemo_exp4.npy'), 20)\n",
    "r5 = numpy_ewma_vectorized_v2(np.load('results/DDPG_HalfCheetah_rewards_woDemo_exp5.npy'), 20)\n",
    "\n",
    "t1 = np.load('results/DDPG_HalfCheetah_steps_woDemo_exp1.npy')\n",
    "t2 = np.load('results/DDPG_HalfCheetah_steps_woDemo_exp2.npy')\n",
    "t3 = np.load('results/DDPG_HalfCheetah_steps_woDemo_exp3.npy')\n",
    "t4 = np.load('results/DDPG_HalfCheetah_steps_woDemo_exp4.npy')\n",
    "t5 = np.load('results/DDPG_HalfCheetah_steps_woDemo_exp5.npy')\n",
    "\n",
    "r1_explore = numpy_ewma_vectorized_v2(np.load('results/DDPG_HalfCheetah_rewards_exp1.npy'), 20)\n",
    "r2_explore = numpy_ewma_vectorized_v2(np.load('results/DDPG_HalfCheetah_rewards_exp2.npy'), 20)\n",
    "r3_explore = numpy_ewma_vectorized_v2(np.load('results/DDPG_HalfCheetah_rewards_exp3.npy'), 20)\n",
    "r4_explore = numpy_ewma_vectorized_v2(np.load('results/DDPG_HalfCheetah_rewards_exp4.npy'), 20)\n",
    "r5_explore = numpy_ewma_vectorized_v2(np.load('results/DDPG_HalfCheetah_rewards_exp5.npy'), 20)\n",
    "\n",
    "t1_explore = np.load('results/DDPG_HalfCheetah_steps_exp1.npy')\n",
    "t2_explore = np.load('results/DDPG_HalfCheetah_steps_exp2.npy')\n",
    "t3_explore = np.load('results/DDPG_HalfCheetah_steps_exp3.npy')\n",
    "t4_explore = np.load('results/DDPG_HalfCheetah_steps_exp4.npy')\n",
    "t5_explore = np.load('results/DDPG_HalfCheetah_steps_exp5.npy')\n",
    "\n",
    "r1_loss = numpy_ewma_vectorized_v2(np.load('results/DDPG_HalfCheetah_rewards_augmentLoss_exp1.npy'), 20)\n",
    "r2_loss = numpy_ewma_vectorized_v2(np.load('results/DDPG_HalfCheetah_rewards_augmentLoss_exp2.npy'), 20)\n",
    "r3_loss = numpy_ewma_vectorized_v2(np.load('results/DDPG_HalfCheetah_rewards_augmentLoss_exp3.npy'), 20)\n",
    "r4_loss = numpy_ewma_vectorized_v2(np.load('results/DDPG_HalfCheetah_rewards_augmentLoss_exp4.npy'), 20)\n",
    "r5_loss = numpy_ewma_vectorized_v2(np.load('results/DDPG_HalfCheetah_rewards_augmentLoss_exp5.npy'), 20)\n",
    "\n",
    "t1_loss = np.load('results/DDPG_HalfCheetah_steps_augmentLoss_exp1.npy')\n",
    "t2_loss = np.load('results/DDPG_HalfCheetah_steps_augmentLoss_exp2.npy')\n",
    "t3_loss = np.load('results/DDPG_HalfCheetah_steps_augmentLoss_exp3.npy')\n",
    "t4_loss = np.load('results/DDPG_HalfCheetah_steps_augmentLoss_exp4.npy')\n",
    "t5_loss = np.load('results/DDPG_HalfCheetah_steps_augmentLoss_exp5.npy')\n",
    "\n",
    "r1_explore_multiple = numpy_ewma_vectorized_v2(np.load('results/DDPG_HalfCheetah_rewards_multiple_exp5.npy'), 20)\n",
    "r2_explore_multiple = numpy_ewma_vectorized_v2(np.load('results/DDPG_HalfCheetah_rewards_multiple_exp2.npy'), 20)\n",
    "r3_explore_multiple = numpy_ewma_vectorized_v2(np.load('results/DDPG_HalfCheetah_rewards_multiple_exp4.npy'), 20)\n",
    "\n",
    "t1_explore_multiple = np.load('results/DDPG_HalfCheetah_steps_multiple_exp5.npy')\n",
    "t2_explore_multiple = np.load('results/DDPG_HalfCheetah_steps_multiple_exp2.npy')\n",
    "t3_explore_multiple = np.load('results/DDPG_HalfCheetah_steps_multiple_exp4.npy')\n",
    "\n",
    "r1_loss_multiple = numpy_ewma_vectorized_v2(np.load('results/DDPG_HalfCheetah_rewards_multiple_augmentLoss_exp2.npy'), 20)\n",
    "\n",
    "t1_loss_multiple = np.load('results/DDPG_HalfCheetah_steps_multiple_augmentLoss_exp2.npy')"
   ]
  },
  {
   "cell_type": "code",
   "execution_count": 6,
   "metadata": {},
   "outputs": [
    {
     "data": {
      "image/png": "[encoded data removed]",
      "text/plain": [
       "<matplotlib.figure.Figure at 0x118b51668>"
      ]
     },
     "metadata": {},
     "output_type": "display_data"
    }
   ],
   "source": [
    "plt.figure()\n",
    "plt.plot(t1_loss, r1_loss, label='exp1_loss', color='red')\n",
    "plt.plot(t2_loss, r2_loss, label='exp2_loss', color='red')\n",
    "plt.plot(t3_loss, r3_loss, label='exp3_loss', color='red')\n",
    "plt.plot(t4_loss, r4_loss, label='exp4_loss', color='red')\n",
    "plt.plot(t5_loss, r5_loss, label='exp5_loss', color='red')\n",
    "plt.plot(t1_explore, r1_explore, label='exp1_explore', color='green')\n",
    "plt.plot(t2_explore, r2_explore, label='exp2_explore', color='green')\n",
    "plt.plot(t3_explore, r3_explore, label='exp3_explore', color='green')\n",
    "plt.plot(t4_explore, r4_explore, label='exp4_explore', color='green')\n",
    "plt.plot(t5_explore, r5_explore, label='exp5_explore', color='green')\n",
    "plt.plot(t1, r1, label='exp1_woDemo', color='blue')\n",
    "plt.plot(t2, r2, label='exp2_woDemo', color='blue')\n",
    "plt.plot(t3, r3, label='exp3_woDemo', color='blue')\n",
    "plt.plot(t4, r4, label='exp4_woDemo', color='blue')\n",
    "plt.plot(t5, r5, label='exp5_woDemo', color='blue')\n",
    "plt.plot(t1_explore_multiple, r1_explore_multiple, label='exp1_multiple_explore', color='yellow')\n",
    "plt.plot(t2_explore_multiple, r2_explore_multiple, label='exp2_multiple_explore', color='yellow')\n",
    "plt.plot(t3_explore_multiple, r3_explore_multiple, label='exp3_multiple_explore', color='yellow')\n",
    "plt.plot(t1_loss_multiple, r1_loss_multiple, label='exp1_multiple_loss', color='black')\n",
    "\n",
    "plt.title('Training reward for HalfCheetah-v1 over multiple runs (DDPG)')\n",
    "plt.xlabel('Number of steps')\n",
    "plt.ylabel('Cumulative reward')\n",
    "plt.legend()\n",
    "plt.savefig('DDPG_HalfCheetah_compare.png')\n",
    "plt.show()"
   ]
  },
  {
   "cell_type": "code",
   "execution_count": 7,
   "metadata": {},
   "outputs": [
    {
     "data": {
      "image/png": "[encoded data removed]",
      "text/plain": [
       "<matplotlib.figure.Figure at 0x11abf44e0>"
      ]
     },
     "metadata": {},
     "output_type": "display_data"
    }
   ],
   "source": [
    "r = [r1, r2, r3, r4, r5]\n",
    "r_std = [np.std(x) for x in itertools.zip_longest(*r, fillvalue=1500)]\n",
    "r = [sum(x)/5 for x in itertools.zip_longest(*r, fillvalue=1500)]\n",
    "\n",
    "r_loss = [r1_loss, r2_loss, r3_loss, r4_loss, r5_loss]\n",
    "r_loss_std = [np.std(x) for x in itertools.zip_longest(*r_loss, fillvalue=1500)]\n",
    "r_loss = [sum(x)/5 for x in itertools.zip_longest(*r_loss, fillvalue=1500)]\n",
    "\n",
    "r_explore = [r1_explore, r2_explore, r3_explore, r4_explore, r5_explore]\n",
    "r_explore_std = [np.std(x) for x in itertools.zip_longest(*r_explore, fillvalue=1500)]\n",
    "r_explore = [sum(x)/5 for x in itertools.zip_longest(*r_explore, fillvalue=1500)]\n",
    "\n",
    "r_multiple = [r1_explore_multiple, r2_explore_multiple, r3_explore_multiple]\n",
    "r_multiple_std = [np.std(x) for x in itertools.zip_longest(*r_multiple, fillvalue=1500)]\n",
    "r_multiple = [sum(x)/3 for x in itertools.zip_longest(*r_multiple, fillvalue=1500)]\n",
    "\n",
    "r_loss_multiple = [r1_loss_multiple]\n",
    "r_loss_multiple_std = [np.std(x) for x in itertools.zip_longest(*r_loss_multiple, fillvalue=1500)]\n",
    "r_loss_multiple = [sum(x)/1 for x in itertools.zip_longest(*r_loss_multiple, fillvalue=1500)]\n",
    "\n",
    "plt.figure()\n",
    "plt.errorbar(range(len(r)), r, yerr=r_std, label='W/o demo', fmt='-*', color='red', alpha=0.1)\n",
    "plt.errorbar(range(len(r_loss)), r_loss, yerr=r_loss_std, label='Loss augmentation', fmt='-*', color='orange', alpha=0.1)\n",
    "plt.errorbar(range(len(r_explore)), r_explore, yerr=r_explore_std, label='Explore with demo', fmt='-*', color='green', alpha=0.2)\n",
    "plt.errorbar(range(len(r_multiple)), r_multiple, yerr=r_multiple_std, label='Multiple agents (exploration)', fmt='-*', color='blue', alpha=0.2)\n",
    "plt.errorbar(range(len(r_loss_multiple)), r_loss_multiple, yerr=r_loss_multiple_std, label='Multiple agents (loss)', fmt='-*', color='yellow', alpha=0.2)\n",
    "\n",
    "plt.title('Training reward for HalfCheetah-v1 (DDPG+REINFORCE)')\n",
    "plt.xlabel('Number of episodes')\n",
    "plt.ylabel('Cumulative reward')\n",
    "plt.legend()\n",
    "plt.savefig('DDPG_HalfCheetah_compare2.png')\n",
    "plt.show()"
   ]
  }
 ],
 "metadata": {
  "anaconda-cloud": {},
  "kernelspec": {
   "display_name": "Python 3",
   "language": "python",
   "name": "python3"
  },
  "language_info": {
   "codemirror_mode": {
    "name": "ipython",
    "version": 3
   },
   "file_extension": ".py",
   "mimetype": "text/x-python",
   "name": "python",
   "nbconvert_exporter": "python",
   "pygments_lexer": "ipython3",
   "version": "3.6.3"
  },
  "varInspector": {
   "cols": {
    "lenName": 16,
    "lenType": 16,
    "lenVar": 40
   },
   "kernels_config": {
    "python": {
     "delete_cmd_postfix": "",
     "delete_cmd_prefix": "del ",
     "library": "var_list.py",
     "varRefreshCmd": "print(var_dic_list())"
    },
    "r": {
     "delete_cmd_postfix": ") ",
     "delete_cmd_prefix": "rm(",
     "library": "var_list.r",
     "varRefreshCmd": "cat(var_dic_list()) "
    }
   },
   "types_to_exclude": [
    "module",
    "function",
    "builtin_function_or_method",
    "instance",
    "_Feature"
   ],
   "window_display": false
  }
 },
 "nbformat": 4,
 "nbformat_minor": 2
}
