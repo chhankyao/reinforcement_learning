{
 "cells": [
  {
   "cell_type": "markdown",
   "metadata": {},
   "source": [
    "# Assignment 2: Function Approximation for Q Learning\n",
    "\n",
    "Name: Chun-Han Yao\n",
    "\n",
    "ID: A53234899"
   ]
  },
  {
   "cell_type": "markdown",
   "metadata": {},
   "source": [
    "### 1. Cartpole\n",
    "\n",
    "A cartpole problem is shown below.\n",
    "![pendulum2.png](pendulum2.png)\n",
    "\n",
    "The equation for the cartpole problem is nonlinear in nature, but it has been shown through robust control theory that a linear version of the equation of the form $\\dot{x} = Ax+Bu$ can be solved by a linear controller. Let us assume that we are interested in minimizing cart stray from the center, and pendulum falling. It turns out that typical techniques - open loop control, PID control, root locus, etc. is not suitable for stabilizing both the cart position (keep near center) or the pole angle (keep vertical). The solution to this question is a linear quadratic controller, but we won't be using the solution at the moment."
   ]
  },
  {
   "cell_type": "markdown",
   "metadata": {},
   "source": [
    "### Setup Environment for Function Approximation\n"
   ]
  },
  {
   "cell_type": "code",
   "execution_count": 1,
   "metadata": {},
   "outputs": [
    {
     "name": "stderr",
     "output_type": "stream",
     "text": [
      "[2018-05-15 22:41:08,147] Making new env: CartPole-v0\n"
     ]
    },
    {
     "data": {
      "text/plain": [
       "array([ 0.04229697,  0.00495332, -0.00023259,  0.04398119])"
      ]
     },
     "execution_count": 1,
     "metadata": {},
     "output_type": "execute_result"
    }
   ],
   "source": [
    "import gym\n",
    "import numpy as np\n",
    "import matplotlib.pyplot as plt\n",
    "\n",
    "# Create the CartPole game environment\n",
    "env = gym.make('CartPole-v0')\n",
    "env._max_episode_steps = 500\n",
    "env.reset()"
   ]
  },
  {
   "cell_type": "markdown",
   "metadata": {},
   "source": [
    "#### Demonstrate your understanding of the simulation\n",
    "For OpenAI's CartPole-v0 environment,\n",
    "- describe the reward system\n",
    "- describe the each state variable (observation space)\n",
    "- describe the action space"
   ]
  },
  {
   "cell_type": "markdown",
   "metadata": {},
   "source": [
    "Ans: \n",
    "\n",
    "a. Reward system: we get a reward of 1 for every step we take\n",
    "\n",
    "\n",
    "b. The observation space of the 4 state variables are listed as follows:\n",
    "\n",
    "    Cart position [-2.4, 2.4]\n",
    "   \n",
    "    Cart velopcity [-inf, inf]\n",
    "   \n",
    "    Pole angle [-41.8, 41.8]\n",
    "   \n",
    "    Pole velocity at tip [-inf, inf]\n",
    "   \n",
    "   \n",
    "c. Action space: 0 for pushing cart to the left and 1 for pushing cart to the right"
   ]
  },
  {
   "cell_type": "markdown",
   "metadata": {},
   "source": [
    "### Write a Deep Neural Network class that creates a dense network of a desired architecture\n",
    "In this problem we will create neural network that is our function that takes states to q-values: $q=f(x)$. While any function approximator could be used (i.e. Chebyshev functions, taylor series polynomials), neural networks offer a most general form of 1st-order smooth function (though comprising of trivial small activation functions means that complex functions require a significant amount of weights to identify). \n",
    "\n",
    "Create a class for a QNetwork that uses PyTorch to create a fully connected sequential neural network, of the following properties:\n",
    "- solver: Adam\n",
    "\n",
    "- input and hidden layer activation function: tanh\n",
    "\n",
    "- output activation function: linear\n",
    "\n",
    "- loss: mse\n",
    "\n",
    "- learning_rate: variable\n",
    "\n",
    "- decay_rate: variable\n",
    "\n",
    "- hidden_state sizes: variable\n",
    "\n",
    "- state and action sizes: variable\n"
   ]
  },
  {
   "cell_type": "code",
   "execution_count": 2,
   "metadata": {
    "collapsed": true
   },
   "outputs": [],
   "source": [
    "import random\n",
    "import torch\n",
    "import torch.nn as nn\n",
    "from torch.autograd import Variable\n",
    "import torch.nn.functional as F\n",
    "\n",
    "class QNetwork(nn.Module):\n",
    "# Define your network here       \n",
    "    def __init__(self, learning_rate, state_size, action_size, hidden_size, alpha_decay):\n",
    "        super(QNetwork, self).__init__()\n",
    "        self.fc1 = nn.Linear(state_size, hidden_size)\n",
    "        self.fc1.weight.data.normal_(0, 0.1)\n",
    "        self.fc2 = nn.Linear(hidden_size, action_size)\n",
    "        self.fc2.weight.data.normal_(0, 0.1)\n",
    "        \n",
    "        self.optim = torch.optim.Adam(self.parameters(), lr=learning_rate)\n",
    "        self.lr_scheduler = torch.optim.lr_scheduler.StepLR(self.optim, step_size=50, gamma=alpha_decay)\n",
    "        self.loss_fn = nn.MSELoss()\n",
    "\n",
    "    def forward(self, x):\n",
    "        x = Variable(torch.Tensor(x))\n",
    "        x = self.fc1(x)\n",
    "        x = F.tanh(x)\n",
    "        actions_value = self.fc2(x)\n",
    "        return actions_value\n",
    "    \n",
    "    def update(self, states, qvalues):\n",
    "        self.train(mode=True)\n",
    "        self.optim.zero_grad()\n",
    "        Q_pred = self.forward(states)\n",
    "        Q_true = Variable(torch.Tensor(qvalues))\n",
    "        loss = self.loss_fn(Q_pred, Q_true)\n",
    "        loss.backward()\n",
    "        self.optim.step()\n",
    "        self.lr_scheduler.step()\n",
    "        self.train(mode=False)"
   ]
  },
  {
   "cell_type": "markdown",
   "metadata": {},
   "source": [
    "#### Write a Replay class that includes all the functionality of a replay buffer\n",
    "The replay buffer should kept to some maximum size (10000), allow adding of samples and returning of samples at random from the buffer. Each sample (or experience) is formed as (state, action, reward, next_state, done). The replay buffer should also be able to generate a minibatch. The generate_minibatch method should take in DQN, targetDQN, selected batch_size, and return the states present in the minibatch and the target Q values for those states."
   ]
  },
  {
   "cell_type": "code",
   "execution_count": 3,
   "metadata": {
    "collapsed": true
   },
   "outputs": [],
   "source": [
    "class Replay():\n",
    "# Replay should also have an initialize method which creates a minimum buffer for \n",
    "# the initial episodes to generate minibatches.        \n",
    "    def __init__(self, max_size):\n",
    "        self.capacity = max_size\n",
    "        self.memory = []\n",
    "        self.position = 0\n",
    "        \n",
    "    def initialize(self, init_length, envir):\n",
    "        self.position = init_length\n",
    "        s = envir.reset()\n",
    "        for i in range(init_length):\n",
    "            a = envir.action_space.sample()\n",
    "            next_s, r, done, _ = envir.step(a)\n",
    "            self.memory.append(None)\n",
    "            self.memory[i] = [s, a, r, next_s, done]\n",
    "            if done:\n",
    "                s = envir.reset()\n",
    "            else:\n",
    "                s = next_s\n",
    "\n",
    "    def push(self, trans):\n",
    "        if len(self.memory) < self.capacity:\n",
    "            self.memory.append(None)\n",
    "        self.memory[self.position] = trans\n",
    "        self.position = (self.position + 1) % self.capacity\n",
    "            \n",
    "    def generate_minibatch(self, DQN, targetDQN, batch_size):\n",
    "        def get_targetQ(trans):\n",
    "            [s, a, r, next_s, done] = trans\n",
    "            if done:\n",
    "                targetQ = r\n",
    "            else:\n",
    "                targetQ = r + gamma * np.amax(targetDQN.forward(next_s).data.numpy())\n",
    "            if a == 0:\n",
    "                return np.array([targetQ, DQN.forward(s).data.numpy()[1]])\n",
    "            else:\n",
    "                return np.array([DQN.forward(s).data.numpy()[0], targetQ])\n",
    "            \n",
    "        trans = random.sample(self.memory, batch_size)\n",
    "        states = np.vstack([x[0] for x in trans])\n",
    "        Q_target = np.array([get_targetQ(x) for x in trans])\n",
    "        return states, Q_target"
   ]
  },
  {
   "cell_type": "markdown",
   "metadata": {},
   "source": [
    "Write a function that creates a minibatch from a buffer"
   ]
  },
  {
   "cell_type": "markdown",
   "metadata": {},
   "source": [
    "### Perform Function Approximation\n",
    "Initialize DQN networks and Replay objects"
   ]
  },
  {
   "cell_type": "code",
   "execution_count": 4,
   "metadata": {
    "collapsed": true
   },
   "outputs": [],
   "source": [
    "# Initialize DQN\n",
    "# Play around with your learning rate, alpha decay and hidden layer units \n",
    "# Two layers with a small number of units should be enough\n",
    "learning_rate = 0.1\n",
    "state_size = env.observation_space.shape[0]\n",
    "action_size = env.action_space.n\n",
    "hidden_size = 16\n",
    "alpha_decay = 0.5\n",
    "\n",
    "DQN = QNetwork(learning_rate, state_size, action_size, hidden_size, alpha_decay)\n",
    "targetDQN = QNetwork(learning_rate, state_size, action_size, hidden_size, alpha_decay)\n",
    "\n",
    "# set targetDQN weights to DQN weights\n",
    "# for ex. targetDQN.model.weights = DQN.model.weights (syntax given here is for representation purpose only)\n",
    "targetDQN.load_state_dict(DQN.state_dict())\n",
    "\n",
    "## Initialize Replay Buffer\n",
    "###################################\n",
    "## Populate the initial experience buffer\n",
    "###################################\n",
    "replay = Replay(max_size=10000)\n",
    "replay.initialize(init_length=1000, envir=env)"
   ]
  },
  {
   "cell_type": "markdown",
   "metadata": {},
   "source": [
    "#### Create a function that solves the above environment using a deep Q network that uses a minibatch strategy.\n",
    "Use the following parameters (these had to be derived empirically - there is generally no trusted way of choosing the right parameter values - i.e. gamma, number of episodes, decay rate, min_epsilon). \n",
    "\n",
    "Generate a graph of the average return per episode every 100 episodes."
   ]
  },
  {
   "cell_type": "code",
   "execution_count": 5,
   "metadata": {
    "collapsed": true
   },
   "outputs": [],
   "source": [
    "# Runtime parameters\n",
    "num_episodes = 10000            # max number of episodes to learn from\n",
    "gamma = 0.99                   # future reward discount\n",
    "max_steps = 500                # cut off simulation after this many steps\n",
    "batch_size = 128\n",
    "\n",
    "# Exploration parameters\n",
    "min_epsilon = 0.01             # minimum exploration probability\n",
    "decay_rate = 5/num_episodes    # exponential decay rate for exploration prob\n",
    "returns = np.zeros(num_episodes)\n",
    "step_list = np.zeros(num_episodes)\n",
    "\n",
    "\n",
    "def get_action(state, epsilon):\n",
    "    if np.random.uniform() > epsilon:\n",
    "        return np.argmax(DQN.forward(state).data.numpy())\n",
    "    else:\n",
    "        return env.action_space.sample()\n",
    "\n",
    "n_steps = 0\n",
    "\n",
    "for ep in range(1, num_episodes):\n",
    "    epsilon = min_epsilon + (1.0 - min_epsilon)*np.exp(-decay_rate*ep)\n",
    "    \n",
    "    # --> start episode\n",
    "    s = env.reset()\n",
    "    total_reward = 0\n",
    "    \n",
    "    done = False\n",
    "    while not done:\n",
    "        # explore/exploit and get action using DQN\n",
    "        a = get_action(s, epsilon)\n",
    "        \n",
    "        # perform action and record new_state, action, reward\n",
    "        next_s, r, done, _ = env.step(a)\n",
    "        n_steps += 1\n",
    "        \n",
    "        # populate Replay experience buffer\n",
    "        replay.push([s, a, r, next_s, done])\n",
    "        \n",
    "        total_reward += r\n",
    "        s = next_s   \n",
    "    # <-- end episode\n",
    "    \n",
    "    returns[ep] = total_reward\n",
    "    step_list[ep] = n_steps\n",
    "    \n",
    "    # Replay\n",
    "    states, qvalues = replay.generate_minibatch(DQN, targetDQN, batch_size)\n",
    "    \n",
    "    # set targetDQN weights to DQN weights\n",
    "    targetDQN.load_state_dict(DQN.state_dict())\n",
    "    \n",
    "    # update DQN (run one epoch of training per episode with generated minibatch of states and qvalues)\n",
    "    DQN.update(states, qvalues)"
   ]
  },
  {
   "cell_type": "code",
   "execution_count": 6,
   "metadata": {},
   "outputs": [
    {
     "data": {
      "image/png": "[encoded data removed]",
      "text/plain": [
       "<matplotlib.figure.Figure at 0x1183a1128>"
      ]
     },
     "metadata": {},
     "output_type": "display_data"
    }
   ],
   "source": [
    "# plot average returns\n",
    "returns_over_100_episodes = []\n",
    "x = []\n",
    "for i in range(0,int(num_episodes/100)):\n",
    "    returns_over_100_episodes.append(sum(returns[100*i:100*(i+1)-1])/100)\n",
    "    x.append((i+1)*100)\n",
    "plt.plot(x,returns_over_100_episodes,'.-r')\n",
    "plt.ylabel('Average Returns per Episode')\n",
    "plt.xlabel('Num of Episodes')\n",
    "plt.show()"
   ]
  },
  {
   "cell_type": "code",
   "execution_count": 9,
   "metadata": {
    "collapsed": true
   },
   "outputs": [],
   "source": [
    "np.save('DQN_CartPole_rewards.npy', np.asarray(returns))\n",
    "np.save('DQN_CartPole_steps.npy', np.asarray(step_list))"
   ]
  },
  {
   "cell_type": "code",
   "execution_count": 7,
   "metadata": {
    "collapsed": true
   },
   "outputs": [],
   "source": [
    "# DEMO FINAL NETWORK\n",
    "env.reset()\n",
    "\n",
    "# Take one random step to get the pole and cart moving\n",
    "state, reward, done, _ = env.step(env.action_space.sample())\n",
    "# state = np.reshape(state, [1, state.size])\n",
    "total_reward = 0\n",
    "\n",
    "for i in range(0, max_steps):\n",
    "    env.render()\n",
    "    \n",
    "    # Get action from Q-network\n",
    "    # Qs = output of DQN.model when state is passed in\n",
    "    Qs = DQN.forward(state).data.numpy()\n",
    "    action = np.argmax(Qs)\n",
    "    \n",
    "    # Take action, get new state and reward\n",
    "    next_state, reward, done, _ = env.step(action)\n",
    "    total_reward += reward\n",
    "\n",
    "    if done:\n",
    "        break\n",
    "    else:\n",
    "        #state = np.reshape(next_state, [1, state.size])\n",
    "        state = next_state"
   ]
  }
 ],
 "metadata": {
  "anaconda-cloud": {},
  "kernelspec": {
   "display_name": "Python 3",
   "language": "python",
   "name": "python3"
  },
  "language_info": {
   "codemirror_mode": {
    "name": "ipython",
    "version": 3
   },
   "file_extension": ".py",
   "mimetype": "text/x-python",
   "name": "python",
   "nbconvert_exporter": "python",
   "pygments_lexer": "ipython3",
   "version": "3.6.3"
  },
  "varInspector": {
   "cols": {
    "lenName": 16,
    "lenType": 16,
    "lenVar": 40
   },
   "kernels_config": {
    "python": {
     "delete_cmd_postfix": "",
     "delete_cmd_prefix": "del ",
     "library": "var_list.py",
     "varRefreshCmd": "print(var_dic_list())"
    },
    "r": {
     "delete_cmd_postfix": ") ",
     "delete_cmd_prefix": "rm(",
     "library": "var_list.r",
     "varRefreshCmd": "cat(var_dic_list()) "
    }
   },
   "types_to_exclude": [
    "module",
    "function",
    "builtin_function_or_method",
    "instance",
    "_Feature"
   ],
   "window_display": false
  }
 },
 "nbformat": 4,
 "nbformat_minor": 2
}
