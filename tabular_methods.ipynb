{
 "cells": [
  {
   "cell_type": "markdown",
   "metadata": {},
   "source": [
    "# Assignment 1: Tabular Methods\n",
    "\n",
    "Name: Chun-Han Yao\n",
    "\n",
    "ID: A53234899"
   ]
  },
  {
   "cell_type": "markdown",
   "metadata": {},
   "source": [
    "This exercise requires you to solve a simple grid-world problem called 'FrozenLake-v0' in OpenAI Gym.  We will solve the problem in two different ways. First we will solve the problem using dynamic programming, thus requiring a model of the system. Second we will do it using model-free temporal difference (Q-Learning). Finally, as a bonus you may also show it learning using a naive approach called hill-climbing. \n",
    "\n",
    "### Required for all \n",
    "#### Set up environment"
   ]
  },
  {
   "cell_type": "code",
   "execution_count": 1,
   "metadata": {},
   "outputs": [
    {
     "name": "stdout",
     "output_type": "stream",
     "text": [
      "\n",
      "\u001b[41mS\u001b[0mFFF\n",
      "FHFH\n",
      "FFFH\n",
      "HFFG\n"
     ]
    }
   ],
   "source": [
    "%matplotlib inline\n",
    "import gym\n",
    "import numpy as np\n",
    "from matplotlib import pyplot as plt\n",
    "env = gym.make('FrozenLake-v0')\n",
    "env = env.unwrapped\n",
    "\n",
    "nA = env.nA\n",
    "nS = env.nS\n",
    "\n",
    "env.render()"
   ]
  },
  {
   "cell_type": "markdown",
   "metadata": {},
   "source": [
    "#### Pre. Test Policy Function\n",
    "Write a function to test a policy. Return the average rate of successful episodes over 100 trials. "
   ]
  },
  {
   "cell_type": "code",
   "execution_count": 2,
   "metadata": {
    "collapsed": true
   },
   "outputs": [],
   "source": [
    "def testPolicy(policy):\n",
    "    \n",
    "    #%% ---> start of code\n",
    "    \n",
    "    n_episode = 100\n",
    "    n_success = 0\n",
    "    \n",
    "    for i in range(n_episode):\n",
    "        s = env.reset()\n",
    "        done = False\n",
    "        \n",
    "        while not done:\n",
    "            action = policy[s]\n",
    "            s, reward, done, _ = env.step(action)\n",
    "\n",
    "        if reward > 0:\n",
    "            n_success += 1\n",
    "                \n",
    "    percentSuccess = n_success / n_episode\n",
    "    \n",
    "    #%% <--- end of code\n",
    "    \n",
    "    return percentSuccess"
   ]
  },
  {
   "cell_type": "markdown",
   "metadata": {},
   "source": [
    "## Model-based Learning\n",
    "\n",
    "### 1. Policy Iteration\n",
    "Perform policy iteration on the Frozenlake example. \n",
    "\n",
    "\n",
    "#### 1.1 Find the system model\n",
    "First, model $T(s,a,s')$ and $R(s,a,s')$ over 100000 randomly initializations."
   ]
  },
  {
   "cell_type": "code",
   "execution_count": 3,
   "metadata": {},
   "outputs": [
    {
     "name": "stdout",
     "output_type": "stream",
     "text": [
      "[[ 0.  0.  0.  0.  0.  0.  0.  0.  0.  0.  0.  0.  0.  0.  0.  0.]\n",
      " [ 0.  0.  0.  0.  0.  0.  0.  0.  0.  0.  0.  0.  0.  0.  0.  1.]\n",
      " [ 0.  0.  0.  0.  0.  0.  0.  0.  0.  0.  0.  0.  0.  0.  0.  1.]\n",
      " [ 0.  0.  0.  0.  0.  0.  0.  0.  0.  0.  0.  0.  0.  0.  0.  1.]]\n",
      "[[ 0.          0.          0.          0.          0.          0.          0.\n",
      "   0.          0.          0.          0.32034923  0.          0.          0.322364\n",
      "   0.35728677  0.        ]\n",
      " [ 0.          0.          0.          0.          0.          0.          0.\n",
      "   0.          0.          0.          0.          0.          0.\n",
      "   0.33333333  0.34612924  0.32053743]\n",
      " [ 0.          0.          0.          0.          0.          0.          0.\n",
      "   0.          0.          0.          0.30865007  0.          0.          0.\n",
      "   0.34600262  0.34534731]\n",
      " [ 0.          0.          0.          0.          0.          0.          0.\n",
      "   0.          0.          0.          0.35544431  0.          0.\n",
      "   0.33541927  0.          0.30913642]]\n"
     ]
    }
   ],
   "source": [
    "def learnModel():\n",
    "    \n",
    "    #%% ---> start of code\n",
    "    \n",
    "    T = np.zeros([nS, nA, nS])\n",
    "    R = np.zeros([nS, nA, nS])\n",
    "    \n",
    "    for i in range(100000):\n",
    "        state = env.reset()\n",
    "        env.s = np.random.choice(nS)\n",
    "        \n",
    "        s = env.s\n",
    "        a = np.random.choice(nA)\n",
    "        next_s, reward, _, _ = env.step(a)\n",
    "\n",
    "        T[s, a, next_s] += 1\n",
    "        R[s, a, next_s] += reward\n",
    "    \n",
    "    for s in range(nS):\n",
    "        for a in range(nA):\n",
    "            for next_s in range(nS):\n",
    "                if T[s, a, next_s] > 0:\n",
    "                    R[s, a, next_s] /= T[s, a, next_s]\n",
    "                \n",
    "            T[s,a,:] /= np.sum(T[s,a,:])\n",
    "    \n",
    "    #%% <--- end of code\n",
    "    \n",
    "    return R, T\n",
    "\n",
    "\n",
    "#first learn the model    \n",
    "[R, T] = learnModel()\n",
    "\n",
    "print(R[14,:,:])\n",
    "print(T[14,:,:])"
   ]
  },
  {
   "cell_type": "markdown",
   "metadata": {},
   "source": [
    "#### 1.2 What does the transition model tell you about the stochastic behavior of actions? What does it tell you about the stochasticity  of the rewards? What would you expect an optimal agent's policy to do?"
   ]
  },
  {
   "cell_type": "markdown",
   "metadata": {},
   "source": [
    "ans: \n",
    "1. The transition model T shows that when the agent takes an action to move forward, the probabilities of ending up in the front, at the left, and at the right are all around 1/3.\n",
    "\n",
    "2. The reward matrix R shows that the reward of each trasition (s, a, s') is deterministic. That is, the reward is either 1 for s'=G or 0 for s'=H.\n",
    "\n",
    "3. An optimal agent's policy would follow the directions towards the goal (G), by either moving towards the state with higher state value or taking the step with a higher Q value."
   ]
  },
  {
   "cell_type": "markdown",
   "metadata": {},
   "source": [
    "#### 1.3 Write a function for Policy Evaluation"
   ]
  },
  {
   "cell_type": "code",
   "execution_count": 4,
   "metadata": {
    "collapsed": true
   },
   "outputs": [],
   "source": [
    "#runPolicyEvaluation:\n",
    "def runPolicyEvaluation(policy, V, R, T, discount_factor):\n",
    "    \n",
    "    #%% ---> start of code\n",
    "    \n",
    "    threshold = 1e-6\n",
    "    max_iter = 1000\n",
    "    \n",
    "    for i in range(max_iter):\n",
    "        V_new = np.zeros(nS)\n",
    "        \n",
    "        for s in range(nS):\n",
    "            for next_s in range(nS):\n",
    "                a = policy[s]\n",
    "                V_new[s] += T[s,a,next_s] * (R[s,a,next_s] + discount_factor * V[next_s])\n",
    "            \n",
    "        if np.max(np.abs(V_new - V)) < threshold:\n",
    "            break\n",
    "            \n",
    "        V = V_new\n",
    "    \n",
    "    #%% <--- end of code\n",
    "    \n",
    "    return V_new"
   ]
  },
  {
   "cell_type": "markdown",
   "metadata": {},
   "source": [
    "#### 1.4 Run Policy iteration.\n",
    "and show a bar graph of successful runs vs iteration on the policy. Use a discount factor of 0.98, and terminate policy  after 40 iterations of policy updates.  Plot the percentSuccesses at every iteration (i.e. the return of the testPolicy function)."
   ]
  },
  {
   "cell_type": "code",
   "execution_count": 5,
   "metadata": {},
   "outputs": [
    {
     "name": "stdout",
     "output_type": "stream",
     "text": [
      "Policy iteration policy: [0 3 0 3 0 0 2 0 3 1 0 0 0 2 1 0]\n"
     ]
    },
    {
     "data": {
      "image/png": "[encoded data removed]",
      "text/plain": [
       "<matplotlib.figure.Figure at 0x1a0cff1f98>"
      ]
     },
     "metadata": {},
     "output_type": "display_data"
    }
   ],
   "source": [
    "#%% ---> start of code\n",
    "\n",
    "max_iter = 40\n",
    "discount_factor = 0.98\n",
    "percentSuccesses = np.zeros(max_iter)\n",
    "\n",
    "V = np.zeros(nS)\n",
    "old_policy = np.zeros(nS, dtype=np.int32)\n",
    "\n",
    "\n",
    "for i in range(max_iter):    \n",
    "    V_new = runPolicyEvaluation(old_policy, V, R, T, discount_factor)\n",
    "    policy = np.zeros(nS, dtype=np.int32)\n",
    "    \n",
    "    for s in range(nS):       \n",
    "        action_values = np.zeros(nA)\n",
    "        \n",
    "        for a in range(nA):\n",
    "            for p, next_s, reward, done in env.P[s][a]:                \n",
    "                action_values[a] += T[s,a,next_s] * (R[s,a,next_s] + discount_factor * V_new[next_s])\n",
    "                    \n",
    "        policy[s] = np.argmax(action_values)\n",
    "    \n",
    "    V = V_new\n",
    "    old_policy = policy   \n",
    "    percentSuccesses[i] = testPolicy(policy)    \n",
    "\n",
    "#%% <--- end of code\n",
    "\n",
    "    \n",
    "# plot improvement over time\n",
    "plt.figure()\n",
    "plt.bar(np.arange(len(percentSuccesses)), 100*np.array(percentSuccesses), align='center', alpha=0.5)\n",
    "plt.ylabel('% Episodes Successful')\n",
    "plt.xlabel('Iteration') \n",
    "plt.title('Policy Iteration',fontsize=16)  \n",
    "print('Policy iteration policy:', policy)"
   ]
  },
  {
   "cell_type": "markdown",
   "metadata": {},
   "source": [
    "## Model-Free Learning"
   ]
  },
  {
   "cell_type": "markdown",
   "metadata": {},
   "source": [
    "### 2 Q Value-Iteration (Q-Learning)\n",
    "\n",
    "#### 2.1 Set up a Q learning function\n",
    "Set your exploration rate to 1-episode_num/total_num_of_episodes for linear convergence from completely random action selection to a greedy policy. Return a set of policies (at 5%, 10%,...100% of the total number of episodes) so that in the later section you can perform policy evaluation on intermediate Q-tables and show progress."
   ]
  },
  {
   "cell_type": "code",
   "execution_count": 6,
   "metadata": {
    "collapsed": true
   },
   "outputs": [],
   "source": [
    "def runQLearning(learning_rate, discount_factor, num_of_episodes, Q0, explore_type='linear'):\n",
    "    \n",
    "    #%% code starts here\n",
    "    \n",
    "    Q = Q0\n",
    "    Q_saved = []\n",
    "    \n",
    "    for i in range(num_of_episodes):         \n",
    "        s = env.reset()\n",
    "        done = False\n",
    "        \n",
    "        while not done:\n",
    "            if explore_type == 'log':\n",
    "                thres = 1000 / (1000+i+1)\n",
    "            else:\n",
    "                thres = 1 - (i+1)/num_of_episodes\n",
    "                \n",
    "            if np.random.rand() > thres:\n",
    "                action = np.argmax(Q[s,:])\n",
    "            else:\n",
    "                action = np.random.choice(nA)\n",
    "            \n",
    "            next_s, reward, done, _ = env.step(action)\n",
    "            Q[s, action] += learning_rate * (reward + discount_factor * np.max(Q[next_s,:]) - Q[s,action])\n",
    "            s = next_s\n",
    "        \n",
    "        if i % (num_of_episodes/10) == 0:\n",
    "            Q_saved.append(Q.copy())\n",
    "    \n",
    "    #%% code ends here\n",
    "    \n",
    "    Q_saved.append(Q.copy()) #save last Q\n",
    "    return Q_saved"
   ]
  },
  {
   "cell_type": "markdown",
   "metadata": {},
   "source": [
    "#### 2.1 Perform Q-learning. \n",
    "Show policies during intermediate phases of Q-learning, at 0, 10%, 20%,...,100% of the total episodes during training. Set a learning rate of 0.98 and a discount factor of 0.95. Start with a zero-filled Q-table. Run 10000 episodes. Plot the bar graph of the success rate over time to visualize the improvements to success rate the new policies are providing. "
   ]
  },
  {
   "cell_type": "code",
   "execution_count": 7,
   "metadata": {},
   "outputs": [
    {
     "name": "stdout",
     "output_type": "stream",
     "text": [
      "Q-learning (linear) policy: [0 3 0 3 0 0 0 0 3 1 0 0 0 2 1 0]\n"
     ]
    },
    {
     "data": {
      "image/png": "[encoded data removed]",
      "text/plain": [
       "<matplotlib.figure.Figure at 0x1a120a07f0>"
      ]
     },
     "metadata": {},
     "output_type": "display_data"
    }
   ],
   "source": [
    "#%% ---> start of code\n",
    "\n",
    "learning_rate = 0.02\n",
    "discount_factor = 0.95\n",
    "num_of_episodes = 10000\n",
    "\n",
    "Q0 = np.zeros([nS, nA])\n",
    "Q_saved = runQLearning(learning_rate, discount_factor, num_of_episodes, Q0, 'linear')\n",
    "percentSuccesses = np.zeros(len(Q_saved))\n",
    "\n",
    "for i in range(len(Q_saved)):\n",
    "    policy = np.argmax(Q_saved[i], axis=1)\n",
    "    percentSuccesses[i] = testPolicy(policy)\n",
    "    #print('Q-learning (linear) policy:', policy)\n",
    "        \n",
    "#%% <--- end of code\n",
    "\n",
    "plt.figure()\n",
    "plt.bar(np.arange(len(percentSuccesses)), 100*np.array(percentSuccesses), align='center', alpha=0.5)\n",
    "plt.ylabel('% Episodes Successful')\n",
    "plt.xlabel('Iterations')\n",
    "plt.title('linear Rate Exploitation', fontsize=16)\n",
    "print('Q-learning (linear) policy:', policy)"
   ]
  },
  {
   "cell_type": "markdown",
   "metadata": {},
   "source": [
    "#### 1.4 Log Rate Exploration\n",
    "\n",
    "Run Q-learning for a log exploration rate, $\\frac{1000}{1000+\\text{episode_num}}$, for 10,000 episodes. Perform policy evaluation and plot the success rate over time. You may find setting Q0 to a random number initialization helps (set it to something very small, i.e. 0.000001\\*rand(), since setting it to zero sets a fixed seed)."
   ]
  },
  {
   "cell_type": "code",
   "execution_count": 8,
   "metadata": {},
   "outputs": [
    {
     "name": "stdout",
     "output_type": "stream",
     "text": [
      "Q-learning (log) policy: [0 3 0 3 0 0 0 0 3 1 0 0 0 2 1 1]\n"
     ]
    },
    {
     "data": {
      "image/png": "[encoded data removed]",
      "text/plain": [
       "<matplotlib.figure.Figure at 0x109368ef0>"
      ]
     },
     "metadata": {},
     "output_type": "display_data"
    }
   ],
   "source": [
    "#%% ---> start of code\n",
    "\n",
    "learning_rate = 0.02\n",
    "discount_factor = 0.95\n",
    "num_of_episodes = 10000\n",
    "\n",
    "Q0 = 1e-6 * np.random.rand(nS, nA)\n",
    "Q_saved = runQLearning(learning_rate, discount_factor, num_of_episodes, Q0, 'log')\n",
    "percentSuccesses = np.zeros(len(Q_saved))\n",
    "\n",
    "for i in range(len(Q_saved)):\n",
    "    policy = np.argmax(Q_saved[i], axis=1)   \n",
    "    percentSuccesses[i] = testPolicy(policy)\n",
    "    #print('Q-learning (log) policy:', policy)\n",
    "\n",
    "#%% <--- end of code\n",
    "\n",
    "plt.figure()\n",
    "plt.bar(np.arange(len(percentSuccesses)), 100*np.array(percentSuccesses), align='center', alpha=0.5)\n",
    "plt.ylabel('% Episodes Successful')\n",
    "plt.xlabel('Iterations')\n",
    "plt.title('Log Rate Exploitation', fontsize=16)\n",
    "print('Q-learning (log) policy:', policy)"
   ]
  },
  {
   "cell_type": "markdown",
   "metadata": {
    "collapsed": true
   },
   "source": [
    "### BONUS: Hill Climbing (25%, granted only if Parts 1 and 2 are complete)\n",
    "\n",
    "Demonstrate hill climbing, where your Q values are chosen randomly, and you save improvements, with new Q values to try as $$Q_{test}\\leftarrow Q_{best}+rand(S,A)$$\n",
    "Plot the a bar graph with x-axis labelling the iteration number when an improvement occurred, and y axis as the % of successful episodes. Run on N = 1000 iterations of hill climbing, with 100 episodes per iteration. "
   ]
  },
  {
   "cell_type": "code",
   "execution_count": 18,
   "metadata": {
    "scrolled": true
   },
   "outputs": [
    {
     "name": "stdout",
     "output_type": "stream",
     "text": [
      "[0 3 3 1 0 3 0 1 3 1 0 1 3 2 1 0] : Hill-climbing policy\n"
     ]
    },
    {
     "data": {
      "image/png": "[encoded data removed]",
      "text/plain": [
       "<matplotlib.figure.Figure at 0x1a15cb3c88>"
      ]
     },
     "metadata": {},
     "output_type": "display_data"
    }
   ],
   "source": [
    "#%% ---> start of code\n",
    "\n",
    "N = 1000\n",
    "improvementsIndex = []\n",
    "percentSuccesses = []\n",
    "\n",
    "Q_best = 1e-6 * np.random.rand(nS, nA)\n",
    "percentSuccess_best = 0\n",
    "\n",
    "\n",
    "for i in range(N):\n",
    "    Q_test = Q_best + np.random.rand(nS, nA)\n",
    "    policy = np.argmax(Q_test, axis=1)\n",
    "    percentSuccess = testPolicy(policy)\n",
    "    \n",
    "    if percentSuccess > percentSuccess_best:\n",
    "        Q_best = Q_test\n",
    "        percentSuccess_best = percentSuccess\n",
    "        improvementsIndex.append(i)\n",
    "        percentSuccesses.append(percentSuccess)\n",
    "\n",
    "#%% <--- end of code\n",
    "\n",
    "plt.figure()\n",
    "plt.bar(np.arange(len(improvementsIndex)), 100*np.array(percentSuccesses), align='center', alpha=0.5)\n",
    "plt.xticks(np.arange(len(improvementsIndex)),improvementsIndex) \n",
    "plt.ylabel('% Episodes Successful')\n",
    "plt.xlabel('Iteration')\n",
    "plt.title('Hill Climbing',fontsize=16)\n",
    "print(policy,': Hill-climbing policy')"
   ]
  },
  {
   "cell_type": "code",
   "execution_count": null,
   "metadata": {
    "collapsed": true
   },
   "outputs": [],
   "source": []
  }
 ],
 "metadata": {
  "kernelspec": {
   "display_name": "Python 3",
   "language": "python",
   "name": "python3"
  },
  "language_info": {
   "codemirror_mode": {
    "name": "ipython",
    "version": 3
   },
   "file_extension": ".py",
   "mimetype": "text/x-python",
   "name": "python",
   "nbconvert_exporter": "python",
   "pygments_lexer": "ipython3",
   "version": "3.6.3"
  },
  "varInspector": {
   "cols": {
    "lenName": 16,
    "lenType": 16,
    "lenVar": 40
   },
   "kernels_config": {
    "python": {
     "delete_cmd_postfix": "",
     "delete_cmd_prefix": "del ",
     "library": "var_list.py",
     "varRefreshCmd": "print(var_dic_list())"
    },
    "r": {
     "delete_cmd_postfix": ") ",
     "delete_cmd_prefix": "rm(",
     "library": "var_list.r",
     "varRefreshCmd": "cat(var_dic_list()) "
    }
   },
   "types_to_exclude": [
    "module",
    "function",
    "builtin_function_or_method",
    "instance",
    "_Feature"
   ],
   "window_display": false
  }
 },
 "nbformat": 4,
 "nbformat_minor": 2
}
